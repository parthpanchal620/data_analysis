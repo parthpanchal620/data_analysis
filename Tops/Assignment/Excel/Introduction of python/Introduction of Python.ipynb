{
 "cells": [
  {
   "cell_type": "code",
   "execution_count": 4,
   "id": "a34a59f9-1a7d-4331-90b4-07f15df7cac7",
   "metadata": {},
   "outputs": [
    {
     "data": {
      "text/plain": [
       "\"Question No.'(1) What are the types of Applications?\\n\\n-> Applications are always changing in response to new technological developments and shifting user needs.\\n   Applications can be used for a variety of purposes, including communication, entertainment, business productivity,\\n   personal use, and specialized tasks.\\n\\n   # Types of Applications :-\\n   -> Mobile Apllication intragram , facebook ect,\\n   -> software like window 10, macos ect.\\n   -> application software like Microsoft Excel , Microsoft Office, Word, Access, Google Sheet, Google Appsheet, Lookers tudio, \\n   -> Web Browsers like Chrome, Opera ect. \""
      ]
     },
     "execution_count": 4,
     "metadata": {},
     "output_type": "execute_result"
    }
   ],
   "source": [
    "# Module 7) DA- Introduction to python Assignment\n",
    "\n",
    "\"\"\"Question No.'(1) What are the types of Applications?\n",
    "\n",
    "-> Applications are always changing in response to new technological developments and shifting user needs.\n",
    "   Applications can be used for a variety of purposes, including communication, entertainment, business productivity,\n",
    "   personal use, and specialized tasks.\n",
    "\n",
    "   # Types of Applications :-\n",
    "   -> Mobile Apllication intragram , facebook ect,\n",
    "   -> software like window 10, macos ect.\n",
    "   -> application software like Microsoft Excel , Microsoft Office, Word, Access, Google Sheet, Google Appsheet, Lookers tudio, \n",
    "   -> Web Browsers like Chrome, Opera ect. \"\"\"\n",
    "   "
   ]
  },
  {
   "cell_type": "code",
   "execution_count": 3,
   "id": "e84c3cc8-9d02-4db0-846f-e04725492af8",
   "metadata": {},
   "outputs": [
    {
     "data": {
      "text/plain": [
       "\"Question No.'(2) What is programing?\\n\\n-> Programming refers to the process of creating instructions that a computer can follow to perform specific tasks or \\n   achieve desired outcomes. It involves testing, debugging, and maintaining the source code of computer programs. 21 \\n   Programming is used to create a wide range of software applications, from simple scripts and mobile apps to complex\\n   systems like operating systems, databases, and web applications. \""
      ]
     },
     "execution_count": 3,
     "metadata": {},
     "output_type": "execute_result"
    }
   ],
   "source": [
    "\"\"\"Question No.'(2) What is programing?\n",
    "\n",
    "-> Programming refers to the process of creating instructions that a computer can follow to perform specific tasks or \n",
    "   achieve desired outcomes. It involves testing, debugging, and maintaining the source code of computer programs. 21 \n",
    "   Programming is used to create a wide range of software applications, from simple scripts and mobile apps to complex\n",
    "   systems like operating systems, databases, and web applications. \"\"\"\n"
   ]
  },
  {
   "cell_type": "code",
   "execution_count": 2,
   "id": "6748ef9e-bf04-46d4-9ccb-c19da9b57476",
   "metadata": {},
   "outputs": [
    {
     "data": {
      "text/plain": [
       "\"Question No.'(3) What is Python?\\n\\n-> . Python is a high level programming language, interpreted programming language known for its simplicity and readability. \\nIt was created by Guido van Rossum and first released in 1991. Python is widely used for various purposes,\\nincluding data analysis, artificial intelligence, web development, scientific computing, ect. \""
      ]
     },
     "execution_count": 2,
     "metadata": {},
     "output_type": "execute_result"
    }
   ],
   "source": [
    "\"\"\"Question No.'(3) What is Python?\n",
    "\n",
    "-> . Python is a high level programming language, interpreted programming language known for its simplicity and readability. \n",
    "It was created by Guido van Rossum and first released in 1991. Python is widely used for various purposes,\n",
    "including data analysis, artificial intelligence, web development, scientific computing, ect. \"\"\""
   ]
  },
  {
   "cell_type": "code",
   "execution_count": 2,
   "id": "cab24e2d-d99a-4863-8d2b-42caa263c69f",
   "metadata": {},
   "outputs": [
    {
     "name": "stdout",
     "output_type": "stream",
     "text": [
      "it is nagative number\n"
     ]
    }
   ],
   "source": [
    "# Question No.'(4) :- Write a Python program to check if a number is positive, negative or Zero.\n",
    "\n",
    "num = -1\n",
    "\n",
    "if num > 0:\n",
    "    print(\"it is a positive number\")\n",
    "elif num == 0:\n",
    "    print(\"it is zero\")\n",
    "else:\n",
    "    print(\"it is nagative number\")"
   ]
  },
  {
   "cell_type": "code",
   "execution_count": 17,
   "id": "8a8c6072-b30e-4422-968a-066766a05838",
   "metadata": {},
   "outputs": [
    {
     "name": "stdin",
     "output_type": "stream",
     "text": [
      "Enter a number here : 5\n"
     ]
    },
    {
     "name": "stdout",
     "output_type": "stream",
     "text": [
      "the factorial of the given number is 120\n"
     ]
    }
   ],
   "source": [
    "# 'Question No.'(5) :- Write a Python program to get the Factorial number of given numbers.\n",
    "\n",
    "num = int(input(\"Enter a number here :\"))\n",
    "\n",
    "fact = 1\n",
    "\n",
    "if num < 0:  \n",
    "    print(\"factorial of 0 does not exist\")\n",
    "if num == 0: \n",
    "    print(\"factorial of 0 is\",1)\n",
    "if num > 0:\n",
    "    for i in range (1,num+1):\n",
    "        fact = fact * i\n",
    "print(\"the factorial of the given number is\", fact)"
   ]
  },
  {
   "cell_type": "code",
   "execution_count": 32,
   "id": "f459f5a0-df9c-4cec-a39d-daa180ee2e86",
   "metadata": {},
   "outputs": [
    {
     "name": "stdin",
     "output_type": "stream",
     "text": [
      "enter a number to obtain fibonacci series : 5\n"
     ]
    },
    {
     "name": "stdout",
     "output_type": "stream",
     "text": [
      "0\n",
      "1\n",
      "1\n",
      "2\n",
      "3\n",
      "5\n",
      "8\n"
     ]
    }
   ],
   "source": [
    "# Question No.'(6) Write a Python program to get the Fibonacci series of given range.\n",
    "\n",
    "a = 0\n",
    "b = 1\n",
    "num = int(input(\"enter a number to obtain fibonacci series :\"))\n",
    "\n",
    "if num ==1:\n",
    "    print(a)\n",
    "else:\n",
    "    print(a)\n",
    "    print(b)\n",
    "    for i in range (1,num+1):\n",
    "        c = a + b\n",
    "        a = b\n",
    "        b = c\n",
    "        print(c)\n",
    "        "
   ]
  },
  {
   "cell_type": "code",
   "execution_count": null,
   "id": "a2abefbb-3366-47ac-b79b-95ba63483383",
   "metadata": {},
   "outputs": [],
   "source": [
    "\"\"\" Question No.'(7)  How memory is managed in Python? \n",
    "\n",
    "-> The Python runtime automatically manages memory via a private heap. \n",
    "Python automatically allocates memory for new objects when they are created, and \n",
    "deallocates memory when objects are no longer used.\n",
    "Python also uses a garbage collector to free up memory used by objects that are no longer needed or unreachable.\n",
    "Python's memory management simplifies programming by automating memory-related tasks,\n",
    "allowing developers to focus on application logic rather than memory allocation details. \"\"\""
   ]
  },
  {
   "cell_type": "code",
   "execution_count": null,
   "id": "9f7ec497-2dba-463b-95a9-a9627aff5aa3",
   "metadata": {},
   "outputs": [],
   "source": [
    "\"\"\" Question No.'(8) What is the purpose continuing statement in python?\n",
    "\n",
    "-> , the continue statement is used within loops such as for loops, while loops to skip the remaining code inside the \n",
    "loop for the current iteration and proceed to the next iteration.Its primary purpose is to alter the flow of control \n",
    "in loops based on certain conditions."
   ]
  },
  {
   "cell_type": "code",
   "execution_count": 1,
   "id": "ab7f6f49-38c0-4ab3-825f-c756c3261f26",
   "metadata": {},
   "outputs": [
    {
     "name": "stdin",
     "output_type": "stream",
     "text": [
      "Enter first num : 2\n",
      "Enter second num : 4\n"
     ]
    },
    {
     "name": "stdout",
     "output_type": "stream",
     "text": [
      "value before swaping : 2 4\n",
      "after swap: 4 2\n"
     ]
    }
   ],
   "source": [
    "\"\"\" Question No.'(9) Write python program that swap two number with temp variable and without temp variable. \"\"\"\n",
    "\n",
    "# without temp Variable \n",
    "a = int(input(\"Enter first num :\"))\n",
    "b = int(input(\"Enter second num :\"))\n",
    "print(\"value before swaping :\",a,b)\n",
    "a,b = b,a\n",
    "print(\"after swap:\",a,b)"
   ]
  },
  {
   "cell_type": "code",
   "execution_count": 3,
   "id": "01e01964-fbae-43a4-9eed-2f6acb12bdd2",
   "metadata": {},
   "outputs": [
    {
     "name": "stdin",
     "output_type": "stream",
     "text": [
      "enter a number : 12\n"
     ]
    },
    {
     "name": "stdout",
     "output_type": "stream",
     "text": [
      "even Number: 12\n"
     ]
    }
   ],
   "source": [
    "# Question No.'(10) Write a Python program to find whether a given number is even or odd, print out an appropriate message to the user.\n",
    "\n",
    "num = int(input(\"enter a number :\"))\n",
    "\n",
    "if num % 2==0:\n",
    "    print(\"even Number:\",num)\n",
    "\n",
    "else:\n",
    "    print(\"odd number:\",num)\n",
    "\n"
   ]
  },
  {
   "cell_type": "code",
   "execution_count": 21,
   "id": "93652258-99cf-4e2d-9c10-a0f51d02360c",
   "metadata": {},
   "outputs": [
    {
     "name": "stdin",
     "output_type": "stream",
     "text": [
      "Enter a letter k\n"
     ]
    },
    {
     "name": "stdout",
     "output_type": "stream",
     "text": [
      "not a vowel letter\n"
     ]
    }
   ],
   "source": [
    "# Question No.'(11) Write a Python program to test whether a passed letter is a vowel or nott\n",
    "\n",
    "letter = input(\"Enter a letter\")\n",
    "if letter in 'aeiouAEIOU':\n",
    "    print(\"Passed a vowel letter :\",letter)\n",
    "else:\n",
    "    print(\"not a vowel letter\")\n"
   ]
  },
  {
   "cell_type": "code",
   "execution_count": 1,
   "id": "3d7823c4-f161-4d1f-9bea-dbab32aeac44",
   "metadata": {},
   "outputs": [
    {
     "name": "stdout",
     "output_type": "stream",
     "text": [
      "0\n",
      "0\n",
      "12\n"
     ]
    }
   ],
   "source": [
    "# Question No.'(12) Write a Python program to sum of three given integers. However, if two values are equal sum will be zero.\n",
    "\n",
    "# 2 2 2 = 0\n",
    "# 2 3 2 = 0\n",
    "# 3 4 5 = 12\n",
    "\n",
    "def sum(x,y,z):\n",
    "    if x==y or y==z or x==z:\n",
    "        sum = 0\n",
    "    else:\n",
    "        sum = x + y + z\n",
    "    return sum\n",
    "print(sum(2,2,2))\n",
    "print(sum(2,3,2))\n",
    "print(sum(3,4,5))"
   ]
  },
  {
   "cell_type": "code",
   "execution_count": 4,
   "id": "d486a5c9-6af8-4105-9350-a8db91a20ca3",
   "metadata": {},
   "outputs": [
    {
     "name": "stdout",
     "output_type": "stream",
     "text": [
      "True\n",
      "True\n",
      "True\n",
      "True\n"
     ]
    }
   ],
   "source": [
    "# Question No.'(13) Write a Python program that will return true if the two given integer values are equal or their sum or difference is 5.\n",
    "\n",
    "def test(x,y):\n",
    "    if x == y or abs(x-y) == 5 or (x+y) == 5:   '''abs function help karta hai koi output minus me ata hai to usee positive me convert kar deta hai''' \n",
    "        return True\n",
    "    else:\n",
    "        return False\n",
    "print(test(7,2))\n",
    "print(test(2,2))\n",
    "print(test(3,2))\n",
    "print(test(27,53))"
   ]
  },
  {
   "cell_type": "code",
   "execution_count": 5,
   "id": "1db2c132-f74c-401b-a2de-6f45b08f17f2",
   "metadata": {},
   "outputs": [
    {
     "name": "stdin",
     "output_type": "stream",
     "text": [
      "Enter a Number : 8\n"
     ]
    },
    {
     "name": "stdout",
     "output_type": "stream",
     "text": [
      "sum is : 36.0\n"
     ]
    }
   ],
   "source": [
    "\"\"\" Question No.'(14) Write a python program to sum of the first n positive integers.\n",
    "  ex. n=5 1,2,3,4,5 = 15 is Ans second way sn = n (n+1) / 2 Formula \"\"\"\n",
    "\n",
    "n = int(input(\"Enter a Number :\"))\n",
    "sum = (n * (n+1)) /2\n",
    "\n",
    "print(\"sum is :\",sum)"
   ]
  },
  {
   "cell_type": "code",
   "execution_count": 11,
   "id": "5e2c4af6-8374-4c56-a1f9-7fbbca5c7c64",
   "metadata": {},
   "outputs": [
    {
     "name": "stdin",
     "output_type": "stream",
     "text": [
      "enter a String : ha\n"
     ]
    },
    {
     "name": "stdout",
     "output_type": "stream",
     "text": [
      "Length of string is : 2\n"
     ]
    }
   ],
   "source": [
    "# Question No.'(15) Write a Python program to calculate the length of a string.\n",
    "\n",
    "str = input(\"enter a String :\")\n",
    "length = 0\n",
    "\n",
    "for _ in str:\n",
    "    length += 1\n",
    "\n",
    "print(\"Length of string is :\",length)"
   ]
  },
  {
   "cell_type": "code",
   "execution_count": 10,
   "id": "6391ccd7-926f-40b9-9d06-3608f51af933",
   "metadata": {},
   "outputs": [
    {
     "name": "stdin",
     "output_type": "stream",
     "text": [
      "Enter a string : i will become a data analyst\n"
     ]
    },
    {
     "name": "stdout",
     "output_type": "stream",
     "text": [
      "Count of characters in a string is : 28\n"
     ]
    }
   ],
   "source": [
    "# Question No.'(16) Write a Python program to count the number of characters (character frequency) in a string.\n",
    "\n",
    "text = input(\"Enter a string :\")\n",
    "index = 0\n",
    "for _ in text:\n",
    "    index += 1\n",
    "\n",
    "print(\"Count of characters in a string is :\", index)"
   ]
  },
  {
   "cell_type": "code",
   "execution_count": null,
   "id": "cf7c63a3-9018-4193-a23d-a02e0893e405",
   "metadata": {},
   "outputs": [],
   "source": [
    "\"\"\" Question No.'(17) ) What are negative indexes and why are they used?\n",
    "\n",
    "-> Positive indexes refer to elements from the beginning of the sequence O for the first element, 1 for the second, etc.\n",
    "   Negative indexes, on the other hand, count backward from the end of the sequence, starting with 1 for the last element,\n",
    "   2 for the second last,\n",
    "   negative indexes in Python are a convenient feature that allows for easy access to elements from the end of sequences.\n",
    "   They simplify code and make it more readable by providing a straightforward way to access elements without needing to \n",
    "   manually calculate indices relative to the end of a sequence.\"\"\"\n"
   ]
  },
  {
   "cell_type": "code",
   "execution_count": 14,
   "id": "a365031a-20d4-465d-b412-1457994d02fb",
   "metadata": {},
   "outputs": [
    {
     "name": "stdin",
     "output_type": "stream",
     "text": [
      "Enter a string : Harshal Nimaje\n",
      "Enter a substring : a\n"
     ]
    },
    {
     "name": "stdout",
     "output_type": "stream",
     "text": [
      "Substring occurs how many times  3\n"
     ]
    }
   ],
   "source": [
    "# Question No.'(18) Write a Python program to count occurrences of a substring in a string. \n",
    "\n",
    "my_string = input(\"Enter a string :\")\n",
    "my_substring = input(\"Enter a substring :\")\n",
    "\n",
    "my_count = my_string.count(my_substring)\n",
    "\n",
    "print(\"Substring occurs how many times \", my_count)"
   ]
  },
  {
   "cell_type": "code",
   "execution_count": 132,
   "id": "e5b4643b-30d5-472b-a4d9-d0441ad31199",
   "metadata": {},
   "outputs": [
    {
     "name": "stdin",
     "output_type": "stream",
     "text": [
      "enter a sentence : i like apple but i don't like to eat apple\n"
     ]
    },
    {
     "name": "stdout",
     "output_type": "stream",
     "text": [
      "i present  2 times\n",
      "like present  2 times\n",
      "apple present  2 times\n",
      "but present  1 times\n",
      "i present  2 times\n",
      "don't present  1 times\n",
      "like present  2 times\n",
      "to present  1 times\n",
      "eat present  1 times\n",
      "apple present  2 times\n"
     ]
    }
   ],
   "source": [
    "# Question No.'(19) Write a Python program to count the occurrences of each word in a given sentence.\n",
    "\n",
    "str = input(\"enter a sentence :\")\n",
    "str=str.split()\n",
    "i = 0\n",
    "count = 0\n",
    "while i<len(str):\n",
    "    count = 0\n",
    "    for j in str:\n",
    "        if str[i]==j:\n",
    "            count=count+1\n",
    "    print(str[i],\"present \",count,\"times\")\n",
    "    i=i+1\n"
   ]
  },
  {
   "cell_type": "code",
   "execution_count": 2,
   "id": "ff90c6a2-8b88-4dcb-9b25-72e9eef187a4",
   "metadata": {},
   "outputs": [
    {
     "name": "stdin",
     "output_type": "stream",
     "text": [
      "Enter a first character : hello\n",
      "Enter a Second character : how are you\n"
     ]
    },
    {
     "name": "stdout",
     "output_type": "stream",
     "text": [
      "hello how are you\n",
      "hew are you\n",
      "hollo\n"
     ]
    }
   ],
   "source": [
    "\"\"\"Question No.'(20) Write a Python program to get a single string from two given strings, \n",
    "separated by a space and swap the first two characters of each string.\"\"\" \n",
    "\n",
    "str1 = input(\"Enter a first character :\")\n",
    "str2 = input(\"Enter a Second character :\")\n",
    "sin = print(str1 + \" \" + str2)\n",
    "\n",
    "swap1 = str1[:2] + str2[2:]\n",
    "swap2 = str2[:2] + str1[2:]\n",
    "print(swap1)\n",
    "print(swap2)"
   ]
  },
  {
   "cell_type": "code",
   "execution_count": 45,
   "id": "e3bd8c05-01d0-41eb-b37a-c7d40f359d7b",
   "metadata": {},
   "outputs": [
    {
     "name": "stdin",
     "output_type": "stream",
     "text": [
      "Enter a string: going\n"
     ]
    },
    {
     "name": "stdout",
     "output_type": "stream",
     "text": [
      "goly\n"
     ]
    }
   ],
   "source": [
    "\"\"\" Question No.'(21) Write a Python program to add 'in' at the end of a given string (length \n",
    "should be at least 3). If the given string already ends with 'ing' then \n",
    "add 'ly' instead if the string length of the given string is less than 3, \n",
    "leave it unchanged. \"\"\"\n",
    "\n",
    "str = input(\"Enter a string:\")\n",
    "\n",
    "if str.endswith(\"g\")!=True and len(str)>=3:\n",
    "    print(str + \"in\")\n",
    "elif str.endswith(\"ing\")==True:\n",
    "    print(str.replace(\"ing\",\"ly\"))\n",
    "else:\n",
    "    print(str)"
   ]
  },
  {
   "cell_type": "code",
   "execution_count": 52,
   "id": "7494a692-1c10-4e62-b625-451cc479ad42",
   "metadata": {},
   "outputs": [
    {
     "name": "stdin",
     "output_type": "stream",
     "text": [
      "Enter a string : hello\n"
     ]
    },
    {
     "data": {
      "text/plain": [
       "'hello'"
      ]
     },
     "execution_count": 52,
     "metadata": {},
     "output_type": "execute_result"
    }
   ],
   "source": [
    "# Question No.'(22) Write a Python function to reverses a string if its length is a multiple of 4.\n",
    "\n",
    "def rev(k):\n",
    "    if len(k) % 4 == 0:\n",
    "        return k[::-1]\n",
    "    else:\n",
    "        return k\n",
    "str = input(\"Enter a string :\")\n",
    "     \n",
    "rev(str)"
   ]
  },
  {
   "cell_type": "code",
   "execution_count": 4,
   "id": "2ceb6892-b1f7-4607-848e-3004ebb4fcd2",
   "metadata": {},
   "outputs": [
    {
     "name": "stdin",
     "output_type": "stream",
     "text": [
      "enter a string : h\n"
     ]
    },
    {
     "name": "stdout",
     "output_type": "stream",
     "text": [
      "new string is :  \n"
     ]
    }
   ],
   "source": [
    "\"\"\" Question No.'(23) Write a Python program to get a string made of the first 2 and the last \n",
    "2 chars from a given a string. If the string length is less than 2, return \n",
    "instead of the empty string.\"\"\" \n",
    "\n",
    "def getstring(text):\n",
    "    if len(text) < 2:\n",
    "        return \"\"\n",
    "    return text[:2] + text[-2:]\n",
    "\n",
    "mystring = input(\"enter a string :\")\n",
    "print(\"new string is : \",getstring(mystring))"
   ]
  },
  {
   "cell_type": "code",
   "execution_count": 1,
   "id": "2d14d961-47b8-4e37-851b-81c3c685b821",
   "metadata": {},
   "outputs": [
    {
     "name": "stdout",
     "output_type": "stream",
     "text": [
      "hello good morning, how are you\n"
     ]
    },
    {
     "name": "stdin",
     "output_type": "stream",
     "text": [
      "enter string to insert:  harshal\n"
     ]
    },
    {
     "data": {
      "text/plain": [
       "'Hello good morning harshal, how are you'"
      ]
     },
     "execution_count": 1,
     "metadata": {},
     "output_type": "execute_result"
    }
   ],
   "source": [
    "\"\"\" Question No.'(24) Write a Python function to insert a string in the middle of a string. \"\"\"\n",
    "\n",
    "def mid(user):\n",
    "    return(f\"Hello good morning {user}, how are you\")\n",
    "ex = \"hello good morning, how are you\"\n",
    "print(ex)\n",
    "main = input(\"enter string to insert: \")\n",
    "mid(main)"
   ]
  },
  {
   "cell_type": "code",
   "execution_count": 8,
   "id": "b1701d3f-cd80-409d-8938-8ff407afac78",
   "metadata": {},
   "outputs": [
    {
     "name": "stdout",
     "output_type": "stream",
     "text": [
      "[5, 4, 3, 2, 1]\n"
     ]
    }
   ],
   "source": [
    "\"\"\" Question No.'(25) What is List? How will you reverse a list? \n",
    "\n",
    "-> Reverse List Using the Reversed() and Reverse() Built-In Function. Using reversed() we can reverse the list \n",
    "   and a list_reverseiterator object is created, from which we can create a list using list() type casting. Or,\n",
    "   we can also use the list reverse() function to reverse list in place. \"\"\"\n",
    "   \n",
    "lst = [1, 2, 3, 4, 5]\n",
    "print(lst[::-1])\n"
   ]
  },
  {
   "cell_type": "code",
   "execution_count": 7,
   "id": "4b9a26a3-4e19-4c8e-a97f-6e70fdd7b6a1",
   "metadata": {},
   "outputs": [
    {
     "name": "stdout",
     "output_type": "stream",
     "text": [
      "[1, 2, 3, 4]\n"
     ]
    }
   ],
   "source": [
    "\"\"\" Question No.'(26) How will you remove last object from a list? \n",
    "\n",
    "One way is to use the pop() method. This method removes the last element of a list by default,\n",
    "or you can specify the index of the element you want to remove. For example:\n",
    "\"\"\"\n",
    "lst = [1, 2, 3, 4, 5]\n",
    "lst.pop()\n",
    "print(lst)"
   ]
  },
  {
   "cell_type": "code",
   "execution_count": 13,
   "id": "4edadf22-866f-4883-9233-baa4ff1d523f",
   "metadata": {},
   "outputs": [
    {
     "name": "stdout",
     "output_type": "stream",
     "text": [
      "33\n"
     ]
    }
   ],
   "source": [
    "\"\"\" Question No.'(27)  Suppose list1 is [2, 33, 222, 14, and 25], what is list1 [1]? \"\"\"\n",
    "\n",
    "list1 = [2, 33, 222, 14, 25]\n",
    "print(list1[1])\n",
    "#In Python list indexing starts at 0. \n",
    "#list1[1] refer to the second element in the list. Output given second element 33 Value provide ."
   ]
  },
  {
   "cell_type": "code",
   "execution_count": 22,
   "id": "4329d670-e15b-4d85-8bf6-9faa7d143e4d",
   "metadata": {},
   "outputs": [
    {
     "name": "stdout",
     "output_type": "stream",
     "text": [
      "[1, 2, 3, [4, 5]]\n",
      "[1, 2, 3, 4, 5]\n"
     ]
    }
   ],
   "source": [
    "\"\"\" Question No.'(28) Differentiate between append () and extend () methods?\n",
    "\n",
    "-> append () :- append() add a single Value in to end of the list and print as a list type in end of the list\n",
    "   extend () :- extend() adds a multiple Value in to end of the list, and convert in to single element \"\"\"\n",
    "\n",
    "lst1 = [1, 2, 3]\n",
    "lst1.append([4, 5])\n",
    "print(lst1)\n",
    "\n",
    "lst2 = [1, 2, 3]\n",
    "\n",
    "lst2.extend([4, 5])\n",
    "print(lst2)"
   ]
  },
  {
   "cell_type": "code",
   "execution_count": 16,
   "id": "10439d76-e1d4-4e23-aae4-cc7a20553793",
   "metadata": {},
   "outputs": [
    {
     "name": "stdout",
     "output_type": "stream",
     "text": [
      "Largest: 99, Smallest: 10, Sum: 400\n"
     ]
    }
   ],
   "source": [
    "\"\"\" Question No.'(29) Write a Python function to get the largest number, smallest num and sum of all from a list.\"\"\"\n",
    "\n",
    "\"\"\"lst = [56,98,1,20,40,90,115]\n",
    "\n",
    "lst.sort()\n",
    "\n",
    "print(lst)\n",
    "\n",
    "print(\"Smallest number is :\" ,lst[0]) \n",
    "print(\"Largest number is :\" ,lst[-1]) \n",
    "\n",
    "a,b,c,d,e,f,g = lst\n",
    "print(\"Sum of all List\",a+b+c+d+e+f+g)\"\"\"\n",
    "\n",
    "def lst_state(numbers):\n",
    "    if not numbers:\n",
    "        return None, None, 0\n",
    "\n",
    "    largest = max(numbers)\n",
    "    smallest = min(numbers)\n",
    "    sumall = sum(numbers)\n",
    "\n",
    "    return largest, smallest, sumall\n",
    "\n",
    "numbers = [22,66,55,78,25,99,10,30,15]\n",
    "largest, smallest, sumall = lst_state(numbers)\n",
    "print(f\"Largest: {largest}, Smallest: {smallest}, Sum: {sumall}\")"
   ]
  },
  {
   "cell_type": "code",
   "execution_count": 27,
   "id": "4e2701c2-b9c3-4d10-b83b-576a6df2b7a8",
   "metadata": {},
   "outputs": [
    {
     "name": "stdout",
     "output_type": "stream",
     "text": [
      "Check if Two Lists are equal :- True\n",
      "common value is:- {2, 3}\n"
     ]
    }
   ],
   "source": [
    "\"\"\" Question No.'(30) How will you compare two lists?\n",
    "\n",
    "-> comparing two lists :-\n",
    "   1. Identical Lists:\n",
    "   2. Same Elements:\n",
    "   3. Unique Elements:\n",
    "   4. Subset wise:\n",
    "   5. Common Elements:\n",
    "\"\"\"\n",
    "#example 1. :-\n",
    "lst1 = [1, 2, 3]\n",
    "lst2 = [1, 2, 3]\n",
    "lst3 = lst1 == lst2\n",
    "print(\"Check if Two Lists are equal :-\",lst3)\n",
    "\n",
    "#example 2. :-\n",
    "list1 = [1, 2, 3]\n",
    "list2 = [2, 3, 4]\n",
    "\n",
    "a = set(list1) & set(list2)\n",
    "print(\"common value is:-\",a)\n"
   ]
  },
  {
   "cell_type": "code",
   "execution_count": 14,
   "id": "187a4963-308a-4eb1-8db5-0602cded9f91",
   "metadata": {},
   "outputs": [
    {
     "name": "stdout",
     "output_type": "stream",
     "text": [
      "the given word are: aba\n",
      "the given word are: harsh\n",
      "the given word are: ptp\n",
      "no. of words is : 3\n"
     ]
    }
   ],
   "source": [
    "\"\"\" Question No.'(31) Write a Python program to count the number of strings where the string  \n",
    "length is 2 or more and the first and last character are same from a given list \n",
    "of strings. \"\"\"\n",
    "\n",
    "h=0\n",
    "lst = [\"aba\",\"harsh\",\"ptp\",\"otp\"]\n",
    "for x in lst:\n",
    "    if len(x)>1 and x[0]==x[-1]:\n",
    "        print(\"the given word are:\",x)\n",
    "        h=h+1\n",
    "print(\"no. of words is :\",h)"
   ]
  },
  {
   "cell_type": "code",
   "execution_count": 31,
   "id": "88281d76-2abb-4d35-91d6-46957107fd1d",
   "metadata": {},
   "outputs": [
    {
     "name": "stdout",
     "output_type": "stream",
     "text": [
      "remove duplicates from a list.: [1, 2, 3, 4, 5]\n"
     ]
    }
   ],
   "source": [
    "\"\"\" Question No.'(32) Write a Python program to remove duplicates from a list. \"\"\"\n",
    "\n",
    "def remove_dup(my_lst):\n",
    "    unique_lst = []\n",
    "    \n",
    "    for item in my_lst:\n",
    "        if item not in unique_lst:\n",
    "            unique_lst.append(item)\n",
    "    \n",
    "    return unique_lst\n",
    "\n",
    "my_lst = [1, 2, 3, 2, 4, 5, 1]\n",
    "unique_lst = remove_dup(my_lst)\n",
    "print(\"remove duplicates from a list.:\", unique_lst)"
   ]
  },
  {
   "cell_type": "code",
   "execution_count": 37,
   "id": "1c799ddd-8bd7-45d0-8c0b-2323923897e9",
   "metadata": {},
   "outputs": [
    {
     "name": "stdout",
     "output_type": "stream",
     "text": [
      "list1 : list is empty\n",
      "list2 : list is NOT empty\n"
     ]
    }
   ],
   "source": [
    "\"\"\" Question No.'(33) Write a Python program to check a list is empty or not. \"\"\"\n",
    "\n",
    "def lst_empty(input_list):\n",
    "    if len(input_list) == 0:\n",
    "        return(\"list is empty\")\n",
    "    else:\n",
    "        return(\"list is NOT empty\")\n",
    "lst1 = [0,1,2,3]\n",
    "lst2 = []\n",
    "\n",
    "print(\"list1 :\", lst_empty(list1))\n",
    "print(\"list2 :\", lst_empty(list2))"
   ]
  },
  {
   "cell_type": "code",
   "execution_count": 41,
   "id": "431541ff-cad1-42d6-9249-6426e4fcac04",
   "metadata": {},
   "outputs": [
    {
     "name": "stdout",
     "output_type": "stream",
     "text": [
      "True\n",
      "True\n",
      "False\n"
     ]
    }
   ],
   "source": [
    "\"\"\" Question No.'(34) Write a Python function that takes two lists and returns true if they\n",
    "have at least one common member.\"\"\"\n",
    "\n",
    "def common_member(list1, list2):\n",
    "    set1 = set(list1)\n",
    "    \n",
    "    for item in list2:\n",
    "        if item in set1:\n",
    "            return True\n",
    "    return False\n",
    "\n",
    "lst1 = [1, 2, 3, 4, 5]\n",
    "lst2 = [5, 6, 7, 8, 9]\n",
    "lst3 = [2, 4, 11]\n",
    "\n",
    "print(common_member(lst1, lst2))\n",
    "print(common_member(lst1, lst3))\n",
    "print(common_member(lst2, lst3))\n"
   ]
  },
  {
   "cell_type": "code",
   "execution_count": 126,
   "id": "a843501b-4828-4786-87da-2fb8cb85e443",
   "metadata": {},
   "outputs": [
    {
     "name": "stdout",
     "output_type": "stream",
     "text": [
      "[1, 4, 9, 16, 25, 36, 49, 64, 81, 100, 121, 144, 169, 196, 225, 256, 289, 324, 361, 400, 441, 484, 529, 576, 625, 676, 729, 784, 841, 900]\n",
      "first 5 elements : [1, 4, 9, 16, 25]\n",
      "last 5 elements : [676, 729, 784, 841, 900]\n"
     ]
    }
   ],
   "source": [
    "\"\"\" Question No.'(35) Write a Python program to generate and print a list of first and last 5 \n",
    "elements where the values are square of numbers between 1 and 30. \"\"\"\n",
    "\n",
    "lst = []\n",
    "for i in range(1,31):\n",
    "    lst.append(i*i)\n",
    "print(lst)\n",
    "\n",
    "print(\"first 5 elements :\",lst[0:5])\n",
    "print(\"last 5 elements :\",lst[-5:])"
   ]
  },
  {
   "cell_type": "code",
   "execution_count": 130,
   "id": "25bc6bdc-8ee5-454c-84e5-e79a6442503e",
   "metadata": {},
   "outputs": [
    {
     "name": "stdin",
     "output_type": "stream",
     "text": [
      "enter a total elements  in a list : 6\n",
      "enter a data list 1\n",
      "enter a data list 1\n",
      "enter a data list 2\n",
      "enter a data list 3\n",
      "enter a data list 3\n",
      "enter a data list 4\n"
     ]
    },
    {
     "name": "stdout",
     "output_type": "stream",
     "text": [
      "original list : [1, 1, 2, 3, 3, 4]\n",
      "[1, 2, 3, 4]\n"
     ]
    }
   ],
   "source": [
    "\"\"\" Question No.'(36) Write a Python function that takes a list and returns a new list with \n",
    "unique elements of the first list. \"\"\"\n",
    "\n",
    "def uniquelst(lst):\n",
    "    x = []\n",
    "    for h in lst:\n",
    "        if h not in x:\n",
    "            x.append(h)\n",
    "    return x\n",
    "datalist=[]\n",
    "n = int(input(\"enter a total elements  in a list :\"))\n",
    "for k in range(n):\n",
    "    data = int(input(\"enter a data list\"))\n",
    "    datalist.append(data)\n",
    "\n",
    "print(\"original list :\",datalist)\n",
    "print(uniquelst(datalist))\n"
   ]
  },
  {
   "cell_type": "code",
   "execution_count": 62,
   "id": "e80ed9fa-ea32-4704-a876-c56500d8750b",
   "metadata": {},
   "outputs": [
    {
     "name": "stdout",
     "output_type": "stream",
     "text": [
      "hello\n",
      "harshal\n"
     ]
    }
   ],
   "source": [
    "\"\"\" Question No.'(37) Write a Python program to convert a list of characters into a string. \"\"\"\n",
    "\n",
    "def convert_string(lst):\n",
    "    return ''.join(lst)\n",
    "\n",
    "lst1 = ['h', 'e', 'l', 'l', 'o']\n",
    "lst2 = ['h', 'a', 'r', 's', 'h','a','l']\n",
    "\n",
    "print(convert_string(lst1))\n",
    "print(convert_string(lst2))"
   ]
  },
  {
   "cell_type": "code",
   "execution_count": 85,
   "id": "a90aa45c-7b51-4cdd-8e0a-6e7bb7abf398",
   "metadata": {},
   "outputs": [
    {
     "name": "stdout",
     "output_type": "stream",
     "text": [
      "Randomly selected item: elderberry\n"
     ]
    }
   ],
   "source": [
    "\"\"\" Question No.'(38) Write a Python program to select an item randomly from a list. \"\"\"\n",
    "\n",
    "import random\n",
    "\n",
    "def select_random(my_lst):\n",
    "    return random.choice(my_lst)\n",
    "\n",
    "my_lst = ['apple', 'banana', 'cherry', 'date', 'elderberry']\n",
    "item = select_random(my_lst)\n",
    "print(f\"Randomly selected item: {item}\")\n"
   ]
  },
  {
   "cell_type": "code",
   "execution_count": 99,
   "id": "b93ddb82-c408-4e26-88a8-757a2746155e",
   "metadata": {},
   "outputs": [
    {
     "name": "stdout",
     "output_type": "stream",
     "text": [
      "The second smallest number is: 20\n"
     ]
    }
   ],
   "source": [
    "\"\"\" Question No.'(39)  Write a Python program to find the second smallest number in a list. \"\"\"\n",
    "\n",
    "def second_Snumber(numbers):\n",
    "    sorted_numbers = sorted(numbers)\n",
    "    \n",
    "    smallest = sorted_numbers[0]\n",
    "    \n",
    "    for num in sorted_numbers:\n",
    "        if num > smallest:\n",
    "            return num    \n",
    "    return None\n",
    "\n",
    "numbers = [100, 500, 20, 400, 550, 1.6]\n",
    "second_smallest_No = second_Snumber(numbers)\n",
    "print(f\"The second smallest number is: {second_smallest_No}\")"
   ]
  },
  {
   "cell_type": "code",
   "execution_count": 110,
   "id": "7894b909-c69c-4b1f-bcc0-8d74ab9f2c55",
   "metadata": {},
   "outputs": [
    {
     "name": "stdout",
     "output_type": "stream",
     "text": [
      "Unique values: [1, 2, 3, 4, 5, 6, 7]\n"
     ]
    }
   ],
   "source": [
    "\"\"\" Question No.'(40) Write a Python program to get unique values from a list \"\"\"\n",
    "\n",
    "my_lst = [1, 2, 2, 3, 4, 4, 5, 6, 6, 7]\n",
    "unique_values = []\n",
    "\n",
    "for i in my_lst:\n",
    "    if i not in unique_values:\n",
    "        unique_values.append(i)\n",
    "\n",
    "print(\"Unique values:\", unique_values)"
   ]
  },
  {
   "cell_type": "code",
   "execution_count": 122,
   "id": "4f0821dc-6f0a-4e8c-b2b9-35835159c8fc",
   "metadata": {},
   "outputs": [
    {
     "name": "stdout",
     "output_type": "stream",
     "text": [
      "Is sublist present in list :- True\n"
     ]
    }
   ],
   "source": [
    "\"\"\" Question No.'(41) Write a Python program to check whether a list contains a sub list \"\"\"\n",
    "\n",
    "def sublist(list, sub_list):\n",
    "    return str(sub_list)[1:-1] in str(list)[1:-1]\n",
    "\n",
    "list = [1, 2, 3, 4, 5, 6, 7]\n",
    "sub_list = [4, 5]\n",
    "\n",
    "print(\"Is sublist present in list :-\",sublist(list, sub_list))"
   ]
  },
  {
   "cell_type": "code",
   "execution_count": 124,
   "id": "3f1165d4-84ab-4ea3-8d8d-ac8d13cbe323",
   "metadata": {},
   "outputs": [
    {
     "name": "stdout",
     "output_type": "stream",
     "text": [
      "a: 1\n",
      "b: 2\n",
      "c: 3\n",
      "d: 4\n",
      "e: 5\n"
     ]
    }
   ],
   "source": [
    "\"\"\" Question No.'(42) Write a Python program to split a list into different variables. \"\"\"\n",
    "\n",
    "lst = [1, 2, 3, 4, 5]\n",
    "\n",
    "a, b, c, d, e = lst\n",
    "\n",
    "print(\"a:\", a)\n",
    "print(\"b:\", b)\n",
    "print(\"c:\", c)\n",
    "print(\"d:\", d)\n",
    "print(\"e:\", e)"
   ]
  },
  {
   "cell_type": "code",
   "execution_count": 28,
   "id": "0d980339-a43f-4987-bbb1-b06304554949",
   "metadata": {},
   "outputs": [
    {
     "data": {
      "text/plain": [
       "\" Question No.'(43)  What is tuple? Difference between list and tuple.\\n\\n-> tuple is a data structure in Python, Tuple is similar to list but differences,\\n   tuple are inmutable and can't change value after declaration, cant't be append, and tuple is ordered,\\n\\n-> Difference between list and tuple:-\\n   tuple :-  Immutable,can't modified & changed and using parentheses tuple method Count(), index()\\n                \\n   list :- Mutable, can be modified, added or removed and using square brackets, list multiple method provide like append(), extend(), remove(). \""
      ]
     },
     "execution_count": 28,
     "metadata": {},
     "output_type": "execute_result"
    }
   ],
   "source": [
    "\"\"\" Question No.'(43)  What is tuple? Difference between list and tuple.\n",
    "\n",
    "-> tuple is a data structure in Python, Tuple is similar to list but differences,\n",
    "   tuple are inmutable and can't change value after declaration, cant't be append, and tuple is ordered,\n",
    "\n",
    "-> Difference between list and tuple:-\n",
    "   tuple :-  Immutable,can't modified & changed and using parentheses tuple method Count(), index()\n",
    "                \n",
    "   list :- Mutable, can be modified, added or removed and using square brackets, list multiple method provide like append(), extend(), remove(). \"\"\""
   ]
  },
  {
   "cell_type": "code",
   "execution_count": 26,
   "id": "2e4d7427-f906-4b11-af1a-9f4c38e12a80",
   "metadata": {},
   "outputs": [
    {
     "name": "stdout",
     "output_type": "stream",
     "text": [
      " i have create a tuple with diffrent data types : ('Harshal', 22, 99.99, True)\n"
     ]
    }
   ],
   "source": [
    "\"\"\" Question No.'(44) Write a Python program to create a tuple with different data types. \"\"\"\n",
    "\n",
    "my_tupl = (\"Harshal\",22,99.99,True)\n",
    "\n",
    "print(\" i have create a tuple with diffrent data types :\",my_tupl)"
   ]
  },
  {
   "cell_type": "code",
   "execution_count": 24,
   "id": "1f713a5e-951e-4c7c-8d36-15290507e4f1",
   "metadata": {},
   "outputs": [
    {
     "name": "stdout",
     "output_type": "stream",
     "text": [
      "Unzipped lists:\n",
      "(1, 2, 3, 4)\n",
      "('a', 'b', 'c', 'd')\n"
     ]
    }
   ],
   "source": [
    "\"\"\" Question No.'(45) Write a Python program to unzip a list of tuples into individual lists. \"\"\"\n",
    "\n",
    "def unzip_lst(my_lsts):\n",
    "    unzipped_lists = list(zip(*my_lsts))\n",
    "    return unzipped_lists\n",
    "\n",
    "my_lsts = [(1, 'a'), (2, 'b'), (3, 'c'), (4, 'd')]\n",
    "unzipped_lists = unzip_lst(my_lsts)\n",
    "\n",
    "print(\"Unzipped lists:\")\n",
    "for l in unzipped_lists:\n",
    "    print(l)"
   ]
  },
  {
   "cell_type": "code",
   "execution_count": 135,
   "id": "9ce50925-f479-4325-8a2c-897e68f170c6",
   "metadata": {},
   "outputs": [
    {
     "name": "stdout",
     "output_type": "stream",
     "text": [
      "Dictionary: {'a': 1, 'b': 2, 'c': 3, 'd': 4, 'e': 5, 'f': 6, 'g': 7}\n"
     ]
    }
   ],
   "source": [
    "\"\"\" Question No.'(46) Write a Python program to convert a list of tuples into a dictionary \"\"\"\n",
    "\n",
    "lst = [('a', 1), ('b', 2), ('c', 3), ('d', 4),('e',5),('f',6),('g',7)]\n",
    "\n",
    "dictionary = dict(lst)\n",
    "\n",
    "print(\"Dictionary:\", dictionary)\n"
   ]
  },
  {
   "cell_type": "code",
   "execution_count": 31,
   "id": "c6a9c6a5-09c7-42b7-9c0b-a34ec562e1bb",
   "metadata": {},
   "outputs": [
    {
     "name": "stdout",
     "output_type": "stream",
     "text": [
      "{'age': 21, 'marks': 80, 'Name': 'xyz'}\n"
     ]
    }
   ],
   "source": [
    "\"\"\" Question No.'(47) ) How will you create a dictionary using tuples in python?\n",
    "\n",
    "1st way:- Using a List of Tuples create a list of tuples, where each tuple contains a key and a value,\n",
    "          and then pass this list to the dict() function.\n",
    "\n",
    "2nd way :- Using Tuple of Tuples\n",
    "\n",
    "3rd way :- Using Dictionary  with Tuples \"\"\"\n",
    "\n",
    "#example :-\n",
    "\n",
    "tup = ((\"age\", 21), (\"marks\", 80), (\"Name\", \"xyz\"))\n",
    "dictionary = dict(tup)\n",
    "print(dictionary)\n"
   ]
  },
  {
   "cell_type": "code",
   "execution_count": 141,
   "id": "c1bf66e2-487f-497b-9bd5-626d595d202c",
   "metadata": {},
   "outputs": [
    {
     "name": "stdout",
     "output_type": "stream",
     "text": [
      "Dictionary sorted in ascending order by value: {'A': 1, 'C': 2, 'G': 3, 'B': 5, 'D': 8}\n",
      "Dictionary sorted in descending order by value: {'D': 8, 'B': 5, 'G': 3, 'C': 2, 'A': 1}\n"
     ]
    }
   ],
   "source": [
    "\"\"\" Question No.'(48) Write a Python script to sort (ascending and descending) a \n",
    "dictionary by value.\"\"\"\n",
    "\n",
    "dictionary = {'B': 5, 'C': 2, 'D': 8, 'A': 1, 'G':3}\n",
    "\n",
    "sorted_asc = dict(sorted(dictionary.items(), key=lambda item: item[1]))\n",
    "\n",
    "sorted_desc = dict(sorted(dictionary.items(), key=lambda item: item[1], reverse=True))\n",
    "\n",
    "print(\"Dictionary sorted in ascending order by value:\", sorted_asc)\n",
    "print(\"Dictionary sorted in descending order by value:\", sorted_desc)\n"
   ]
  },
  {
   "cell_type": "code",
   "execution_count": 144,
   "id": "15497c68-4c8f-4f5b-99fe-98a318fb7211",
   "metadata": {},
   "outputs": [
    {
     "name": "stdout",
     "output_type": "stream",
     "text": [
      "{'B': 5, 'C': 2, 'D': 8, 'A': 1, 'G': 3}\n"
     ]
    }
   ],
   "source": [
    "\"\"\" Question No.'(49)  Write a Python script to concatenate following dictionaries to create \n",
    "a new one. \"\"\"\n",
    "\n",
    "dict1 = {'B': 5, 'C': 2}\n",
    "dict2 = {'D': 8, 'A': 1, 'G':3}\n",
    "\n",
    "new_dictionaries = {**dict1, **dict2}\n",
    "\n",
    "print(new_dictionaries)"
   ]
  },
  {
   "cell_type": "code",
   "execution_count": 160,
   "id": "164eb06f-9165-411f-bc1e-8f6031415e43",
   "metadata": {},
   "outputs": [
    {
     "name": "stdout",
     "output_type": "stream",
     "text": [
      "The key 'P' is not exist.\n"
     ]
    }
   ],
   "source": [
    "\"\"\" Question No.'(50)  Write a Python script to check if a given key already exists in a dictionary. \"\"\"\n",
    "\n",
    "My_dict = {'D': 8, 'A': 1, 'G':3}\n",
    "\n",
    "def checkey_exist(dictionary, key):\n",
    "    if key in dictionary:\n",
    "        print(f\"The key '{key}' exist.\")\n",
    "    else:\n",
    "        print(f\"The key '{key}' is not exist.\")\n",
    "\n",
    "check_key = 'P'\n",
    "checkey_exist(My_dict, check_key)"
   ]
  },
  {
   "cell_type": "code",
   "execution_count": 41,
   "id": "a16debce-41ff-45ee-aa10-997978c9b39d",
   "metadata": {},
   "outputs": [
    {
     "name": "stdout",
     "output_type": "stream",
     "text": [
      "a\n",
      "b\n",
      "c\n",
      "1\n",
      "2\n",
      "3\n",
      "{'a'} {1}\n",
      "{'b'} {2}\n",
      "{'c'} {3}\n"
     ]
    }
   ],
   "source": [
    "\"\"\" Question No.'(51) How Do You Traverse Through a Dictionary Object in Python?\n",
    "\n",
    "-> Dictionary in Python is a collection of data values, used to store data values, other Data Types that hold\n",
    "   only a single value as an element, Dictionary holds the key: value pair in Python. \n",
    "   To Iterate through values in a dictionary use built-in methods like values(), items() or even directly iterate\n",
    "   over the dictionary to access values with keys.\n",
    "   iterate through the keys of the dictionary using a for loop.\"\"\"\n",
    "\n",
    "#example :-\n",
    "\n",
    "data = {'a': 1, 'b': 2, 'c': 3}\n",
    "\n",
    "for key in data:\n",
    "    print(key)\n",
    "\n",
    "for value in data.values():\n",
    "    print(value)\n",
    "\n",
    "for key, value in data.items():\n",
    "    print( {key}, {value})\n"
   ]
  },
  {
   "cell_type": "code",
   "execution_count": 43,
   "id": "cfd1905b-dd33-4f74-b47f-d2a82974ef87",
   "metadata": {},
   "outputs": [
    {
     "name": "stdout",
     "output_type": "stream",
     "text": [
      "age key is present in the dictionary.\n"
     ]
    }
   ],
   "source": [
    "\"\"\" Question No.'(52) How Do You Check the Presence of a Key in A Dictionary?\n",
    "\n",
    "1. Using the in Operator. The most straightforward and Pythonic way to check if a key exists in a dictionary is to use the in operator.\n",
    "2. Using the dict. get() Method.\n",
    "3. Using the dict. keys() Method. \"\"\"\n",
    "\n",
    "my_details = {'name': 'Harshal', 'age': 21, 'city': 'Ahmedabad'}\n",
    "\n",
    "if 'age' in my_details:\n",
    "    print(\"age key is present in the dictionary.\")\n",
    "else:\n",
    "    print(\"age key is not present in the dictionary.\")\n"
   ]
  },
  {
   "cell_type": "code",
   "execution_count": 49,
   "id": "94b3fa13-e4bd-48c0-b476-e7fa67cb95ec",
   "metadata": {},
   "outputs": [
    {
     "name": "stdout",
     "output_type": "stream",
     "text": [
      "{1: 1, 2: 2, 3: 3, 4: 4, 5: 5, 6: 6, 7: 7, 8: 8, 9: 9, 10: 10, 11: 11, 12: 12, 13: 13, 14: 14, 15: 15}\n"
     ]
    }
   ],
   "source": [
    "\"\"\" Question No.'(53) Write a Python script to print a dictionary where the keys are numbers between 1 and 15.\"\"\"\n",
    "\n",
    "dictionary = {}\n",
    "\n",
    "for i in range(1, 15 + 1):\n",
    "    dictionary[i] = i\n",
    "\n",
    "print(dictionary)\n"
   ]
  },
  {
   "cell_type": "code",
   "execution_count": 8,
   "id": "7021671c-dbf0-4f7b-bc5e-f31b00304e5f",
   "metadata": {},
   "outputs": [
    {
     "name": "stdout",
     "output_type": "stream",
     "text": [
      "True\n",
      "False\n"
     ]
    }
   ],
   "source": [
    "\"\"\" Question No.'(54) Write a Python program to check multiple keys exists in a dictionary \"\"\"\n",
    "\n",
    "student = {\n",
    "    \"Name\" : \"ram\",\n",
    "    \"age\" : 21,\n",
    "    \"id\" : 1\n",
    "}\n",
    "\n",
    "print(student.keys() >= {\"Name\",\"Name\"})\n",
    "print(student.keys() >= {\"id\",\"ram\"})"
   ]
  },
  {
   "cell_type": "code",
   "execution_count": 26,
   "id": "fec07df1-17bb-4224-87a6-b3f6ff4a62b6",
   "metadata": {},
   "outputs": [
    {
     "name": "stdout",
     "output_type": "stream",
     "text": [
      "{'B': 5, 'C': 2, 'D': 8, 'A': 1, 'G': 3}\n",
      "{'B': 5, 'C': 2, 'D': 8, 'A': 1, 'G': 3}\n"
     ]
    }
   ],
   "source": [
    "\"\"\" Question No.'(55) Write a Python script to merge two Python dictionaries \"\"\"\n",
    "\n",
    "dict1 = {'B': 5, 'C': 2}\n",
    "dict2 = {'D': 8, 'A': 1, 'G':3}\n",
    "\n",
    "d = dict1.copy()\n",
    "d.update(dict2)\n",
    "\n",
    "print(d)\n",
    "\n",
    "dict3 = {**dict1, **dict2}\n",
    "\n",
    "print(dict3)"
   ]
  },
  {
   "cell_type": "code",
   "execution_count": 19,
   "id": "137e63e8-0973-4ddd-be61-a71f0608cd55",
   "metadata": {},
   "outputs": [
    {
     "name": "stdout",
     "output_type": "stream",
     "text": [
      "{'a': 400, 'b': 400, 'd': 400, 'c': 300}\n"
     ]
    }
   ],
   "source": [
    "\"\"\" Question No.'(56)  Write a Python program to map two lists into a dictionary \n",
    "Sample output: Counter ({'a': 400, 'b': 400,’d’: 400, 'c': 300}). \"\"\"\n",
    "\n",
    "\n",
    "lst1 = [ \"a\" , \"b\" , \"d\" , \"c\" ]\n",
    "lst2 = [ 400, 400, 400, 300 ]\n",
    "\n",
    "lists = dict(zip(lst1,lst2))\n",
    "\n",
    "print(lists)"
   ]
  },
  {
   "cell_type": "code",
   "execution_count": 25,
   "id": "99ea3da2-ce7c-49ea-8fce-c88cb7baaa25",
   "metadata": {},
   "outputs": [
    {
     "name": "stdout",
     "output_type": "stream",
     "text": [
      "Top 3 highest value is :\n",
      "100\n",
      "80\n",
      "20\n"
     ]
    }
   ],
   "source": [
    "\"\"\" Question No.'(57) Write a Python program to find the highest 3 values in a dictionary \"\"\"\n",
    "\n",
    "data = {\"B\" : 5, \"C\" : 2, \"D\" : 80, \"A\" : 1, \"G\" : 20, \"H\" : 100, \"W\" : 6}\n",
    "\n",
    "\n",
    "highest_tree = sorted(data.items(),key=lambda item : item[1],reverse = True)[:3]\n",
    "\n",
    "print(\"Top 3 highest value is :\")\n",
    "\n",
    "for key, value in highest_tree:\n",
    "    print(value)"
   ]
  },
  {
   "cell_type": "code",
   "execution_count": 53,
   "id": "9a7a8704-8c79-4293-a0f9-c605bb9f7e86",
   "metadata": {},
   "outputs": [
    {
     "name": "stdout",
     "output_type": "stream",
     "text": [
      "{'item1': 1150, 'item2': 300}\n"
     ]
    }
   ],
   "source": [
    "\"\"\" Question No.'(58)  Write a Python program to combine values in python list of dictionaries. \n",
    "Sample data: [{'item': 'item1', 'amount': 400}, {'item': 'item2', 'amount': \n",
    "300}, o {'item': 'item1', 'amount': 750}] \n",
    "Expected Output: \n",
    "• Counter ({'item1': 1150, 'item2': 300})\"\"\"\n",
    "\n",
    "\n",
    "data = [\n",
    "    {'item': 'item1', 'amount': 400},\n",
    "    {'item': 'item2', 'amount': 300},\n",
    "    {'item': 'item1', 'amount': 750}\n",
    "]\n",
    "\n",
    "combine = {}\n",
    "\n",
    "for hr in data:\n",
    "    item = hr['item']\n",
    "    amount = hr['amount']\n",
    "    if item in combine:\n",
    "        combine[item] += amount\n",
    "    else:\n",
    "        combine[item] = amount\n",
    "\n",
    "print(combine)\n"
   ]
  },
  {
   "cell_type": "code",
   "execution_count": 6,
   "id": "16f2d786-e900-48ca-bed0-de0b9411a95b",
   "metadata": {},
   "outputs": [
    {
     "name": "stdout",
     "output_type": "stream",
     "text": [
      "{'h': 1, 'e': 1, 'l': 3, 'o': 2, 'w': 1, 'r': 1, 'd': 1}\n"
     ]
    }
   ],
   "source": [
    "\"\"\" Question No.'(59) Write a Python program to create a dictionary from a string. Note: Track the count of the letters from the string\"\"\"\n",
    "\n",
    "def count_letters(input_string):\n",
    "    letter_count = {}\n",
    "    for letter in input_string:\n",
    "        if letter.isalpha():  # Consider only alphabetic characters\n",
    "            letter = letter.lower()  # Convert to lowercase for case-insensitive counting\n",
    "            if letter in letter_count:\n",
    "                letter_count[letter] += 1\n",
    "            else:\n",
    "                letter_count[letter] = 1\n",
    "    return letter_count\n",
    "\n",
    "# Example usage\n",
    "input_string = \"Hello World!\"\n",
    "result = count_letters(input_string)\n",
    "print(result)"
   ]
  },
  {
   "cell_type": "code",
   "execution_count": 58,
   "id": "73ebb38c-437b-4378-b7d6-ce789bb7914d",
   "metadata": {},
   "outputs": [
    {
     "name": "stdout",
     "output_type": "stream",
     "text": [
      "{'w': 1, '3': 1, 'r': 2, 'e': 2, 's': 1, 'o': 1, 'u': 1, 'c': 1}\n"
     ]
    }
   ],
   "source": [
    "\"\"\" Question No.'(60)  Sample string:\n",
    " 'w3resource' Expected output: \n",
    "• {'3': 1,’s’: 1, 'r': 2, 'u': 1, 'w': 1, 'c': 1, 'e': 2, 'o': 1} \"\"\"\n",
    "\n",
    "def string_value(s):\n",
    "    character_count = {}\n",
    "    for char in s:\n",
    "        if char in character_count:\n",
    "            character_count[char] += 1\n",
    "        else:\n",
    "            character_count[char] = 1\n",
    "    return character_count\n",
    "\n",
    "sample_string = 'w3resource'\n",
    "result = string_value(sample_string)\n",
    "print(result)"
   ]
  },
  {
   "cell_type": "code",
   "execution_count": 5,
   "id": "90adf55a-51bf-4e21-9cf5-1931a373055b",
   "metadata": {},
   "outputs": [
    {
     "name": "stdout",
     "output_type": "stream",
     "text": [
      "6\n"
     ]
    }
   ],
   "source": [
    "\"\"\" Question No.'(61) Write a Python function to calculate the factorial of a number (a nonnegative integer)  \"\"\"\n",
    "\n",
    "def factorial(n):\n",
    "    \n",
    "    if n < 0:\n",
    "        raise ValueError(\"Input must be a nonnegative integer\")\n",
    "    elif n == 0 or n == 1:\n",
    "        return 1\n",
    "    else:\n",
    "        result = 1\n",
    "        for i in range(2, n + 1):\n",
    "            result *= i\n",
    "        return result\n",
    "\n",
    "\n",
    "print(factorial(3))"
   ]
  },
  {
   "cell_type": "code",
   "execution_count": 4,
   "id": "d7f107f4-48ae-4929-bfe3-acaffa4bebe7",
   "metadata": {},
   "outputs": [
    {
     "name": "stdout",
     "output_type": "stream",
     "text": [
      "True\n"
     ]
    }
   ],
   "source": [
    "\"\"\" Question No.'(62) Write a Python function to check whether a number is in a given range \"\"\"\n",
    "\n",
    "def giv_range(no, start, end):\n",
    "   \n",
    "    return start <= no <= end\n",
    "\n",
    "no = 50\n",
    "start = 49\n",
    "end = 51\n",
    "\n",
    "print(giv_range(no, start, end))"
   ]
  },
  {
   "cell_type": "code",
   "execution_count": 3,
   "id": "6971b94a-9840-4d05-a0f3-0351bad17b5b",
   "metadata": {},
   "outputs": [
    {
     "name": "stdout",
     "output_type": "stream",
     "text": [
      "6 is a perfect number.\n"
     ]
    }
   ],
   "source": [
    "\"\"\" Question No.'(63) Write a Python function to check whether a number is perfect or not. \"\"\"\n",
    "\n",
    "def perfect_no(n):\n",
    "    if n <= 1:\n",
    "        return False\n",
    "    \n",
    "    sum = 0\n",
    "    for i in range(1, n):\n",
    "        if n % i == 0:\n",
    "            sum += i\n",
    "    return sum == n\n",
    "    \n",
    "no = 6\n",
    "if perfect_no(no):\n",
    "    print(f\"{no} is a perfect number.\")\n",
    "else:\n",
    "    print(f\"{no} is not a perfect number.\")"
   ]
  },
  {
   "cell_type": "code",
   "execution_count": 2,
   "id": "f3c85641-d361-4185-a82a-b484477f7e2a",
   "metadata": {},
   "outputs": [
    {
     "name": "stdout",
     "output_type": "stream",
     "text": [
      "False\n",
      "True\n",
      "True\n",
      "True\n"
     ]
    }
   ],
   "source": [
    "\"\"\" Question No.'(64) Q.64 Write a Python function that checks whether a passed string is palindrome or not\"\"\"\n",
    "\n",
    "def palindrome(i):\n",
    "    i = i.lower()\n",
    "    return i == i[::-1]\n",
    "\n",
    "print(palindrome(\"hello\"))    \n",
    "print(palindrome(\"Madam\"))    \n",
    "print(palindrome(\"Helleh\"))\n",
    "print(palindrome(\"anna\"))"
   ]
  },
  {
   "cell_type": "code",
   "execution_count": null,
   "id": "3f3d66ef-92ff-402d-b7b1-66ff14366ad0",
   "metadata": {},
   "outputs": [],
   "source": [
    "\"\"\" Question No.'(65) How Many Basic Types of Functions Are Available in Python? \n",
    "\n",
    "-> Python provides basic types of functions :-\n",
    "   1. Built-in Functions :- Built-in functions that are always available in Python and do not require to define and import.\n",
    "   2. Lambda Functions :- Lambda functions in Python Lambda take any number of arguments but can only have one expression. \n",
    "      The expression is evaluated and returned when the function is called.\n",
    "   3. User Defined Functions :- User Defined functions that users define using the def keyword.\n",
    "   4. import Standard Library Functions :- Python's standard library contains many modules with functions that can be used after importing the module.\n",
    "      Example :- datetime(), datetime.now().  \n",
    "      \"\"\""
   ]
  },
  {
   "cell_type": "code",
   "execution_count": 1,
   "id": "e6a764a3-b847-4696-a1d8-343b94862a20",
   "metadata": {},
   "outputs": [
    {
     "name": "stdout",
     "output_type": "stream",
     "text": [
      "4\n",
      "2\n"
     ]
    }
   ],
   "source": [
    "\"\"\" Question No.'(66) How can you pick a random item from a list or tuple? \"\"\"\n",
    "\n",
    "#-> To pick a random item from a list or tuple in Python, can use the random.choice() function.\n",
    "\n",
    "    #1st example with list\n",
    "\n",
    "import random\n",
    "\n",
    "lst = [1, 2, 3, 4, 5]\n",
    "random_List_item = random.choice(lst)\n",
    "print(random_List_item)\n",
    "\n",
    "    #2nd Example with tuple\n",
    "\n",
    "tup = (1, 2, 3, 4, 5)\n",
    "random_Tuple_item = random.choice(tup)\n",
    "print(random_Tuple_item)"
   ]
  },
  {
   "cell_type": "code",
   "execution_count": null,
   "id": "84db3d61-6d57-4865-b4db-3c3c58905ee3",
   "metadata": {},
   "outputs": [],
   "source": [
    "\"\"\" Question No.'(67) How can you pick a random item from a range? \"\"\"\n",
    "\n",
    "#-> To pick a random item from a range in Python, you can use the randrange function.\n",
    "\n",
    "import random\n",
    "\n",
    "start = 1\n",
    "end = 10\n",
    "\n",
    "random_num = random.randrange(start, end)\n",
    "\n",
    "print(random_num)\n"
   ]
  },
  {
   "cell_type": "code",
   "execution_count": 108,
   "id": "d0099bb6-677e-4e72-97a3-698ebb228916",
   "metadata": {},
   "outputs": [
    {
     "name": "stdout",
     "output_type": "stream",
     "text": [
      "66\n",
      "0.9163542807702342\n",
      "81\n"
     ]
    }
   ],
   "source": [
    "\"\"\" Question No.'(68) How can you get a random number in python? \"\"\"\n",
    "\n",
    "#-> In python can generate a random number using the random module.\n",
    "\n",
    "import random\n",
    "\n",
    "#1st way\n",
    "\n",
    "random_num = random.randrange(1, 100)\n",
    "\n",
    "print(random_num)\n",
    "\n",
    "#2nd way\n",
    "\n",
    "random_num1 = random.random()\n",
    "print(random_num1)\n",
    "\n",
    "#3rd way\n",
    "\n",
    "random_int = random.randint(1, 100)\n",
    "print(random_int)\n"
   ]
  },
  {
   "cell_type": "code",
   "execution_count": 145,
   "id": "76a5826f-ced4-4b58-a5b8-3886cd380b14",
   "metadata": {},
   "outputs": [
    {
     "name": "stdout",
     "output_type": "stream",
     "text": [
      "98\n"
     ]
    }
   ],
   "source": [
    "\"\"\" Question No.'(69) How will you set the starting value in generating random numbers? \"\"\"\n",
    "\n",
    "import random\n",
    "\n",
    "random.setstate(state)\n",
    "\n",
    "random_num = random.randint(1,100)\n",
    "print(random_num)\n"
   ]
  },
  {
   "cell_type": "code",
   "execution_count": 2,
   "id": "ba61a821-0a22-4419-9bfd-01aa9a35576b",
   "metadata": {},
   "outputs": [
    {
     "name": "stdout",
     "output_type": "stream",
     "text": [
      "[4, 5, 1, 3, 2]\n"
     ]
    }
   ],
   "source": [
    "\"\"\" Question No.'(70) How will you randomize the items of a list in place? \"\"\"\n",
    "\n",
    "import random\n",
    "\n",
    "lst = [1, 2, 3, 4, 5]\n",
    "\n",
    "random.shuffle(lst)\n",
    "print(lst)"
   ]
  },
  {
   "cell_type": "code",
   "execution_count": 153,
   "id": "94e42c05-05df-47ee-b30f-a5f32fc6345a",
   "metadata": {},
   "outputs": [
    {
     "data": {
      "text/plain": [
       "' Question No.\\'(71) What is File function in python? What are keywords to create and write file.\\n\\n-> In Python built-in open() function is used to work with files and create. The open() function allows you to open a file,\\n   returning a file object that you can use to read or write a file.\\n\\n   When opening a file with open(), you can specify the mode in which the file is opened. Some of the most common modes include:\\n\\n\"r\" - Read mode. This is the default mode. The file is opened for reading and error occurs if the file does not exist.\\n\"w\" - Write mode. Opens a file for writing. If the file does not exist, it creates a new file. If the file exists, \\n      first content delete of file and before writing to it.\\n\"a\" - append mode. Opens a file for writing & appending to the end of the file.\\n\"rb\" & \"wb\" - Binary mode. This is used to read or write binary files. '"
      ]
     },
     "execution_count": 153,
     "metadata": {},
     "output_type": "execute_result"
    }
   ],
   "source": [
    "\"\"\" Question No.'(71) What is File function in python? What are keywords to create and write file.\n",
    "\n",
    "-> In Python built-in open() function is used to work with files and create. The open() function allows you to open a file,\n",
    "   returning a file object that you can use to read or write a file.\n",
    "\n",
    "   When opening a file with open(), you can specify the mode in which the file is opened. Some of the most common modes include:\n",
    "\n",
    "\"r\" - Read mode. This is the default mode. The file is opened for reading and error occurs if the file does not exist.\n",
    "\"w\" - Write mode. Opens a file for writing. If the file does not exist, it creates a new file. If the file exists, \n",
    "      first content delete of file and before writing to it.\n",
    "\"a\" - append mode. Opens a file for writing & appending to the end of the file.\n",
    "\"rb\" & \"wb\" - Binary mode. This is used to read or write binary files. \"\"\"\n"
   ]
  },
  {
   "cell_type": "code",
   "execution_count": 65,
   "id": "7d256f61-c6e2-4ebc-a63c-54c0b63a16ab",
   "metadata": {},
   "outputs": [
    {
     "name": "stdout",
     "output_type": "stream",
     "text": [
      "This is the content of the fruit.txt file.This is the new text to append.\n",
      "\n"
     ]
    }
   ],
   "source": [
    "\"\"\" Question No.'(72)   Write a Python program to read an entire text file. \"\"\"\n",
    "\n",
    "def read_file_contents(filename):\n",
    "    file = open(filename, 'r')\n",
    "    \n",
    "    file_content = file.read()\n",
    "    \n",
    "    file.close()\n",
    "    \n",
    "    return file_content\n",
    "\n",
    "filename = \"fruit1.txt\"\n",
    "file_contents = read_file_contents(filename)\n",
    "\n",
    "print(file_contents)\n"
   ]
  },
  {
   "cell_type": "code",
   "execution_count": 64,
   "id": "3d893a2d-2b31-4861-bfdd-1a08dca67ea9",
   "metadata": {},
   "outputs": [
    {
     "name": "stdout",
     "output_type": "stream",
     "text": [
      "This is the content of the fruit.txt file.This is the new text to append.\n",
      "\n"
     ]
    }
   ],
   "source": [
    "\"\"\" Question No.'(73) Write a Python program to append text to a file and display the text. \"\"\" # 2nd run file is fruit1.txt\n",
    "\n",
    "def append_to_file(filename, text_to_append):\n",
    "    file = open(filename, 'a')\n",
    "    file.write(text_to_append + '\\n')\n",
    "    \n",
    "    file.close()\n",
    "\n",
    "def display_file_contents(filename):\n",
    "    file = open(filename, 'r')\n",
    "    \n",
    "    file_content = file.read()\n",
    "    file.close()\n",
    "    \n",
    "    return file_content\n",
    "\n",
    "filename = \"fruit1.txt\"\n",
    "text_to_append = \"This is the new text to append.\"\n",
    "append_to_file(filename, text_to_append)\n",
    "\n",
    "file_contents = display_file_contents(filename)\n",
    "\n",
    "print(file_contents)\n",
    "\n"
   ]
  },
  {
   "cell_type": "code",
   "execution_count": 63,
   "id": "de65a890-3e82-414e-b212-3816ce28ba5c",
   "metadata": {},
   "outputs": [
    {
     "name": "stdout",
     "output_type": "stream",
     "text": [
      "apple\n",
      "banana\n",
      "cherry\n"
     ]
    }
   ],
   "source": [
    "\"\"\" Question No.'(74) Write a Python program to read first n lines of a file. \"\"\" \n",
    "\n",
    "def read_first_n_lines(filename, n):\n",
    "    file = open(filename, 'r')\n",
    "    \n",
    "    first_n_lines = []\n",
    "    \n",
    "    for i, line in enumerate(file):\n",
    "        if i < n:\n",
    "            first_n_lines.append(line)\n",
    "        else:\n",
    "            break\n",
    "    \n",
    "    file.close()\n",
    "    \n",
    "    return first_n_lines\n",
    "\n",
    "filename = 'fruit.txt'\n",
    "n = 3\n",
    "first_lines = read_first_n_lines(filename, n)\n",
    "\n",
    "for line in first_lines:\n",
    "    print(line, end='')\n"
   ]
  },
  {
   "cell_type": "code",
   "execution_count": 61,
   "id": "1deef890-668b-43a4-b344-49988af97454",
   "metadata": {},
   "outputs": [
    {
     "name": "stdout",
     "output_type": "stream",
     "text": [
      "date\n",
      "ect\n"
     ]
    }
   ],
   "source": [
    "\"\"\" Question No.'(75) Write a Python program to read last n lines of a file.\"\"\"\n",
    "\n",
    "def read_last_n_lines(filename, n):\n",
    "    file = open(filename, 'r')\n",
    "    \n",
    "    lines = file.readlines()\n",
    "    \n",
    "    file.close()\n",
    "    \n",
    "    last_n_lines = lines[-n:] if n <= len(lines) else lines\n",
    "    \n",
    "    return last_n_lines\n",
    "\n",
    "filename = 'fruit.txt'\n",
    "n = 2 \n",
    "last_lines = read_last_n_lines(filename, n)\n",
    "\n",
    "for line in last_lines:\n",
    "    print(line, end='') \n"
   ]
  },
  {
   "cell_type": "code",
   "execution_count": 51,
   "id": "a200fbb5-39ff-4082-a6c5-dfa39c6360d8",
   "metadata": {},
   "outputs": [
    {
     "name": "stdout",
     "output_type": "stream",
     "text": [
      "['apple', 'banana', 'cherry', 'date', 'ect']\n"
     ]
    }
   ],
   "source": [
    "\"\"\" Question No.'(76) Write a Python program to read a file line by line and store it into a list \"\"\"\n",
    "\n",
    "file = open('fruit.txt', 'r')\n",
    "\n",
    "lines = []\n",
    "\n",
    "for line in file:\n",
    "    lines.append(line.strip())\n",
    "file.close()\n",
    "\n",
    "print(lines)"
   ]
  },
  {
   "cell_type": "code",
   "execution_count": 56,
   "id": "b173d409-2a4e-4eb5-a8f1-c13f00212e3d",
   "metadata": {},
   "outputs": [
    {
     "name": "stdout",
     "output_type": "stream",
     "text": [
      "apple\n",
      "banana\n",
      "cherry\n",
      "date\n",
      "ect\n",
      "\n"
     ]
    }
   ],
   "source": [
    "\"\"\" Question No.'(77) Write a Python program to read a file line by line store it into a variable.\"\"\"\n",
    "\n",
    "file = open(\"fruit.txt\", 'r')\n",
    "\n",
    "file_content = \"\"\n",
    "\n",
    "for line in file:\n",
    "    file_content += line\n",
    "file.close()\n",
    "\n",
    "print(file_content)\n"
   ]
  },
  {
   "cell_type": "code",
   "execution_count": 31,
   "id": "45cd546c-dd00-4e6a-b66d-82bf18a4726e",
   "metadata": {},
   "outputs": [
    {
     "name": "stdout",
     "output_type": "stream",
     "text": [
      "The longest words is:- ['Ahmedabad']\n"
     ]
    }
   ],
   "source": [
    "\"\"\" Question No.'(78) Write a python program to find the longest words.\"\"\"\n",
    "\n",
    "def longest_words(sentence):\n",
    "    words = sentence.split()\n",
    "    \n",
    "    max_length = max(len(word) for word in words)\n",
    "    \n",
    "    longest_words = [word for word in words if len(word) == max_length]\n",
    "    \n",
    "    return longest_words\n",
    "\n",
    "sentence = \"i am from Ahmedabad\"\n",
    "longest_words = longest_words(sentence)\n",
    "print(\"The longest words is:-\", longest_words)"
   ]
  },
  {
   "cell_type": "code",
   "execution_count": 49,
   "id": "2239ddee-c210-4fe7-8a92-cf365edfdf34",
   "metadata": {},
   "outputs": [
    {
     "name": "stdout",
     "output_type": "stream",
     "text": [
      "The number of lines in the file 'fruit.txt' is 5.\n"
     ]
    }
   ],
   "source": [
    "\"\"\" Question No.'(79) Write a Python program to count the number of lines in a text file. \"\"\"\n",
    "\n",
    "filename = \"fruit.txt\"\n",
    "\n",
    "line_count = 0\n",
    "\n",
    "file = open(filename, \"r\")\n",
    "\n",
    "for line in file:\n",
    "    line_count += 1\n",
    "\n",
    "file.close()\n",
    "\n",
    "print(f\"The number of lines in the file '{filename}' is {line_count}.\")\n",
    "\n"
   ]
  },
  {
   "cell_type": "code",
   "execution_count": 42,
   "id": "a8c64aa7-7898-4469-94da-197026094143",
   "metadata": {},
   "outputs": [
    {
     "name": "stdout",
     "output_type": "stream",
     "text": [
      "apple: 1\n",
      "banana: 1\n",
      "cherry: 1\n",
      "date: 1\n",
      "ect: 1\n"
     ]
    }
   ],
   "source": [
    "\"\"\" Question No.'(80) Write a Python program to count the frequency of words in a file. \"\"\"\n",
    "\n",
    "g = open(\"fruit1.txt\", \"w\")\n",
    "g.write(\"This is the code. This code is in the file.\")\n",
    "g.close()\n",
    "\n",
    "file = open(\"fruit1.txt\", \"r\")\n",
    "contents = file.read()\n",
    "file.close()\n",
    "words = contents.split()\n",
    "x = {}\n",
    "\n",
    "for word in words:\n",
    "    word = word.lower().strip()\n",
    "    if word in x:\n",
    "        x[word] += 1\n",
    "    else:\n",
    "        x[word] = 1\n",
    "\n",
    "for word, frequency in x.items():\n",
    "    print(f\"{word}: {frequency}\")"
   ]
  },
  {
   "cell_type": "code",
   "execution_count": 43,
   "id": "1651c92d-7b96-437a-9a07-f145143974ca",
   "metadata": {},
   "outputs": [
    {
     "name": "stdout",
     "output_type": "stream",
     "text": [
      "The list has been written to fruit.txt.\n"
     ]
    }
   ],
   "source": [
    "\"\"\" Question No.'(81) Write a Python program to write a list to a file. \"\"\" # 1st run file fruit.txt\n",
    "\n",
    "my_list = [\"apple\", \"banana\", \"cherry\", \"date\", \"ect\"]\n",
    "\n",
    "g = open(\"fruit.txt\", \"w\")\n",
    "for item in my_list:\n",
    "    g.write(item + \"\\n\")\n",
    "\n",
    "g.close()\n",
    "\n",
    "print(\"The list has been written to fruit.txt.\")"
   ]
  },
  {
   "cell_type": "code",
   "execution_count": 44,
   "id": "da1e5f2b-be09-4e8a-9192-c11b25698819",
   "metadata": {},
   "outputs": [
    {
     "name": "stdout",
     "output_type": "stream",
     "text": [
      "Content copy successfully.\n"
     ]
    }
   ],
   "source": [
    "\"\"\" Question No.'(82) Write a Python program to copy the contents of a file to another file.\"\"\" #2nd run this\n",
    "\n",
    "content_to_write = \"This is the content of the fruit.txt file.\"\n",
    "\n",
    "g = open(\"fruit1.txt\", \"w\")\n",
    "g.write(content_to_write)\n",
    "g.close()\n",
    "\n",
    "k = open(\"fruit1.txt\", \"r\")\n",
    "contents = k.read()\n",
    "k.close()\n",
    "\n",
    "des_file = open(\"copy_fruit.txt\", \"w\")\n",
    "des_file.write(contents)\n",
    "des_file.close()\n",
    "\n",
    "print(\"Content copy successfully.\")"
   ]
  },
  {
   "cell_type": "code",
   "execution_count": 69,
   "id": "251ab176-ab51-4de7-aede-f20a6bf137c5",
   "metadata": {},
   "outputs": [
    {
     "data": {
      "text/plain": [
       "\" Question No.'(83) Explain Exception handling? What is an Error in Python?\\n\\n-> Exception handling is a way to deal with errors in a program. When something goes wrong, like trying to divide by zero,\\n   exception is raised. Instead of crashing, so your program can keep running or exit.\\n\\nTry Block: Put the code that might cause an error inside a try block.\\nExcept Block: Follow the try block with an except block to handle the error. You can specify the type of error to handle.\\nElse Block: add else block that runs if no errors occur.\\nFinally Block: add a finally block that runs no matter what, usually for cleanup. \\n\\n\""
      ]
     },
     "execution_count": 69,
     "metadata": {},
     "output_type": "execute_result"
    }
   ],
   "source": [
    "\"\"\" Question No.'(83) Explain Exception handling? What is an Error in Python?\n",
    "\n",
    "-> Exception handling is a way to deal with errors in a program. When something goes wrong, like trying to divide by zero,\n",
    "   exception is raised. Instead of crashing, so your program can keep running or exit.\n",
    "\n",
    "Try Block: Put the code that might cause an error inside a try block.\n",
    "Except Block: Follow the try block with an except block to handle the error. You can specify the type of error to handle.\n",
    "Else Block: add else block that runs if no errors occur.\n",
    "Finally Block: add a finally block that runs no matter what, usually for cleanup. \n",
    "\n",
    "\"\"\""
   ]
  },
  {
   "cell_type": "code",
   "execution_count": 68,
   "id": "74bdf31c-a068-4be6-90d7-0c641e88d2f2",
   "metadata": {},
   "outputs": [
    {
     "data": {
      "text/plain": [
       "\" Question No.'(84) How many except statements can a try-except block have? Name Some built-in exception classes:\\n\\n-> In Python, a try-except block can have multiple except clauses to handle different types of exceptions. However,\\n   there is no strict limit on the number of except statements you can include. Each except clause can catch different\\n   exceptions, allowing you to handle specific errors differently.\\n\\n   -> Some Built-in Exception Classes:-\\n\\n1.Exception:\\n2.AttributeError:\\n3.IndexError: \\n4.KeyError:\\n5.ValueError: \\n6.TypeError: \\n7.FileNotFoundError: \\n8.ZeroDivisionError:\\n9.ImportError: \\n10.OSError: \""
      ]
     },
     "execution_count": 68,
     "metadata": {},
     "output_type": "execute_result"
    }
   ],
   "source": [
    "\"\"\" Question No.'(84) How many except statements can a try-except block have? Name Some built-in exception classes:\n",
    "\n",
    "-> In Python, a try-except block can have multiple except clauses to handle different types of exceptions. However,\n",
    "   there is no strict limit on the number of except statements you can include. Each except clause can catch different\n",
    "   exceptions, allowing you to handle specific errors differently.\n",
    "\n",
    "   -> Some Built-in Exception Classes:-\n",
    "\n",
    "1.Exception:\n",
    "2.AttributeError:\n",
    "3.IndexError: \n",
    "4.KeyError:\n",
    "5.ValueError: \n",
    "6.TypeError: \n",
    "7.FileNotFoundError: \n",
    "8.ZeroDivisionError:\n",
    "9.ImportError: \n",
    "10.OSError: \"\"\""
   ]
  },
  {
   "cell_type": "code",
   "execution_count": 67,
   "id": "818cb356-a12e-4eae-bb36-03d945167971",
   "metadata": {},
   "outputs": [
    {
     "data": {
      "text/plain": [
       "\" Question No.'(85) When will the else part of try-except-else be executed?\\n\\n-> when no exception occurs, When will the else part of try-except-else be executed? Explanation:\\n   The else part is executed when no exception occurs.\""
      ]
     },
     "execution_count": 67,
     "metadata": {},
     "output_type": "execute_result"
    }
   ],
   "source": [
    "\"\"\" Question No.'(85) When will the else part of try-except-else be executed?\n",
    "\n",
    "-> when no exception occurs, When will the else part of try-except-else be executed? Explanation:\n",
    "   The else part is executed when no exception occurs.\"\"\""
   ]
  },
  {
   "cell_type": "code",
   "execution_count": 20,
   "id": "04169d35-37d7-439c-8508-4e56cd670217",
   "metadata": {},
   "outputs": [
    {
     "name": "stdin",
     "output_type": "stream",
     "text": [
      "Enter a number:  0\n"
     ]
    },
    {
     "name": "stdout",
     "output_type": "stream",
     "text": [
      "division by zero\n",
      "0.00018000180001800017\n"
     ]
    }
   ],
   "source": [
    "\"\"\" Question No.'(86) 86) Can one block of except statements handle multiple exception? \"\"\"\n",
    "\n",
    "try\n",
    "\n",
    "    a = int(input(\"Enter a number: \"))\n",
    "    \n",
    "    b = 10 / a\n",
    "    \n",
    "except (ValueError, ZeroDivisionError) as e:\n",
    "    print(e)\n",
    "\n",
    "print(b)\n"
   ]
  },
  {
   "cell_type": "code",
   "execution_count": 70,
   "id": "a1a25661-1285-4c08-893e-dd4914a586d0",
   "metadata": {},
   "outputs": [
    {
     "data": {
      "text/plain": [
       "\" Question No.'(87) When is the finally block executed? \\n\\n-> finally block is part of the error handling and used with try and except blocks.\\n\\n   In this case even though a ZeroDivisionError occurs, the finally block is executed after the except block.\\n   If no exception occurred, the finally block would still execute. \\n   \\n   finally always be executed.\""
      ]
     },
     "execution_count": 70,
     "metadata": {},
     "output_type": "execute_result"
    }
   ],
   "source": [
    "\"\"\" Question No.'(87) When is the finally block executed? \n",
    "\n",
    "-> finally block is part of the error handling and used with try and except blocks.\n",
    "\n",
    "   In this case even though a ZeroDivisionError occurs, the finally block is executed after the except block.\n",
    "   If no exception occurred, the finally block would still execute. \n",
    "   \n",
    "   finally always be executed.\"\"\""
   ]
  },
  {
   "cell_type": "code",
   "execution_count": 11,
   "id": "c468f2cb-76d1-4241-bad0-f5a44e21a2de",
   "metadata": {},
   "outputs": [
    {
     "data": {
      "text/plain": [
       "False"
      ]
     },
     "execution_count": 11,
     "metadata": {},
     "output_type": "execute_result"
    }
   ],
   "source": [
    "\"\"\" Question No.'(88) What happens when \"1\"== 1 is executed? \"\"\"\n",
    "#-> so first value is string and second value is integer so strings and integers for equal. output is False\n",
    "\n",
    "\"1\"==1"
   ]
  },
  {
   "cell_type": "code",
   "execution_count": 10,
   "id": "2720a619-bcc4-4476-9758-ec152f970e52",
   "metadata": {},
   "outputs": [
    {
     "name": "stdout",
     "output_type": "stream",
     "text": [
      "can not divide by zero\n",
      "Code Ending\n"
     ]
    }
   ],
   "source": [
    "\"\"\" Question No.'(89) How Do You Handle Exceptions with Try/Except/Finally in Python? Explain with coding snippets. \"\"\"\n",
    "\n",
    "try:\n",
    "    result = 2 / 0\n",
    "except ZeroDivisionError:\n",
    "    print(\"can not divide by zero\")\n",
    "finally:\n",
    "    print(\"Code Ending\")"
   ]
  },
  {
   "cell_type": "code",
   "execution_count": 7,
   "id": "f78ebd8a-3cb7-4267-9144-e2d5a6256b65",
   "metadata": {},
   "outputs": [
    {
     "name": "stdin",
     "output_type": "stream",
     "text": [
      "Please enter a odd number:  3\n"
     ]
    },
    {
     "name": "stdout",
     "output_type": "stream",
     "text": [
      "3 is odd a number\n"
     ]
    }
   ],
   "source": [
    "\"\"\" Question No.'(90) Write python program that user to enter only odd numbers, else will raise an exception. \"\"\"\n",
    "\n",
    "def odd_num():\n",
    "    try:\n",
    "        number = int(input(\"Please enter a odd number: \"))\n",
    "        if number % 2 == 0:\n",
    "            raise OddNumberException(number, \"is not a odd number\")\n",
    "        else:\n",
    "            print(number, \"is odd a number\")\n",
    "    except OddNumberException as e:\n",
    "        print(e)\n",
    "    except ValueError:\n",
    "        print(\"invalid input\")\n",
    "\n",
    "odd_num()"
   ]
  },
  {
   "cell_type": "code",
   "execution_count": null,
   "id": "85b5a0bd-6b9f-428b-879e-68923b0c5b93",
   "metadata": {},
   "outputs": [],
   "source": []
  }
 ],
 "metadata": {
  "kernelspec": {
   "display_name": "Python 3 (ipykernel)",
   "language": "python",
   "name": "python3"
  },
  "language_info": {
   "codemirror_mode": {
    "name": "ipython",
    "version": 3
   },
   "file_extension": ".py",
   "mimetype": "text/x-python",
   "name": "python",
   "nbconvert_exporter": "python",
   "pygments_lexer": "ipython3",
   "version": "3.12.8"
  }
 },
 "nbformat": 4,
 "nbformat_minor": 5
}
