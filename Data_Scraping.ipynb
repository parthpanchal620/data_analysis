{
  "nbformat": 4,
  "nbformat_minor": 0,
  "metadata": {
    "colab": {
      "provenance": [],
      "authorship_tag": "ABX9TyODnmDokllR5WBOtLRha9CO",
      "include_colab_link": true
    },
    "kernelspec": {
      "name": "python3",
      "display_name": "Python 3"
    },
    "language_info": {
      "name": "python"
    }
  },
  "cells": [
    {
      "cell_type": "markdown",
      "metadata": {
        "id": "view-in-github",
        "colab_type": "text"
      },
      "source": [
        "<a href=\"https://colab.research.google.com/github/parthpanchal620/data_analysis/blob/main/Data_Scraping.ipynb\" target=\"_parent\"><img src=\"https://colab.research.google.com/assets/colab-badge.svg\" alt=\"Open In Colab\"/></a>"
      ]
    },
    {
      "cell_type": "code",
      "source": [
        "import requests\n",
        "from bs4 import BeautifulSoup\n",
        "\n",
        "# Define the URL (Replace with the URL suggested by your faculty)\n",
        "URL = \"http://quotes.toscrape.com\"\n",
        "\n",
        "# Fetch the web page\n",
        "response = requests.get(URL)\n",
        "\n",
        "# Check if the request was successful\n",
        "if response.status_code == 200:\n",
        "    # Parse the page content using BeautifulSoup\n",
        "    soup = BeautifulSoup(response.text, \"html.parser\")\n",
        "\n",
        "    # Example 1: Find all quotes\n",
        "    quotes = soup.find_all(\"span\", class_=\"text\")\n",
        "    print(\"Quotes on the page:\")\n",
        "    for quote in quotes:\n",
        "        print(quote.get_text())\n",
        "\n",
        "    # Example 2: Find all authors\n",
        "    authors = soup.find_all(\"small\", class_=\"author\")\n",
        "    print(\"\\nAuthors on the page:\")\n",
        "    for author in authors:\n",
        "        print(author.get_text())\n",
        "\n",
        "    # Example 3: Find all tags\n",
        "    tags = soup.find_all(\"div\", class_=\"tags\")\n",
        "    print(\"\\nTags associated with quotes:\")\n",
        "    for tag_div in tags:\n",
        "        tag_list = [tag.get_text() for tag in tag_div.find_all(\"a\", class_=\"tag\")]\n",
        "        print(\", \".join(tag_list))\n",
        "\n",
        "else:\n",
        "    print(\"Failed to fetch the web page. Status code:\", response.status_code)\n"
      ],
      "metadata": {
        "colab": {
          "base_uri": "https://localhost:8080/"
        },
        "id": "GTMA7yUr_9wq",
        "outputId": "59580694-7b84-4289-e40e-7d61d117c6c1"
      },
      "execution_count": 6,
      "outputs": [
        {
          "output_type": "stream",
          "name": "stdout",
          "text": [
            "Quotes on the page:\n",
            "“The world as we have created it is a process of our thinking. It cannot be changed without changing our thinking.”\n",
            "“It is our choices, Harry, that show what we truly are, far more than our abilities.”\n",
            "“There are only two ways to live your life. One is as though nothing is a miracle. The other is as though everything is a miracle.”\n",
            "“The person, be it gentleman or lady, who has not pleasure in a good novel, must be intolerably stupid.”\n",
            "“Imperfection is beauty, madness is genius and it's better to be absolutely ridiculous than absolutely boring.”\n",
            "“Try not to become a man of success. Rather become a man of value.”\n",
            "“It is better to be hated for what you are than to be loved for what you are not.”\n",
            "“I have not failed. I've just found 10,000 ways that won't work.”\n",
            "“A woman is like a tea bag; you never know how strong it is until it's in hot water.”\n",
            "“A day without sunshine is like, you know, night.”\n",
            "\n",
            "Authors on the page:\n",
            "Albert Einstein\n",
            "J.K. Rowling\n",
            "Albert Einstein\n",
            "Jane Austen\n",
            "Marilyn Monroe\n",
            "Albert Einstein\n",
            "André Gide\n",
            "Thomas A. Edison\n",
            "Eleanor Roosevelt\n",
            "Steve Martin\n",
            "\n",
            "Tags associated with quotes:\n",
            "change, deep-thoughts, thinking, world\n",
            "abilities, choices\n",
            "inspirational, life, live, miracle, miracles\n",
            "aliteracy, books, classic, humor\n",
            "be-yourself, inspirational\n",
            "adulthood, success, value\n",
            "life, love\n",
            "edison, failure, inspirational, paraphrased\n",
            "misattributed-eleanor-roosevelt\n",
            "humor, obvious, simile\n"
          ]
        }
      ]
    }
  ]
}