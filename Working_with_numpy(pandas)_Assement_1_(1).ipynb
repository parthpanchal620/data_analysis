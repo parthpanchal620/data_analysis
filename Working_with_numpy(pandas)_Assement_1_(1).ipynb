{
  "cells": [
    {
      "cell_type": "markdown",
      "metadata": {
        "id": "view-in-github",
        "colab_type": "text"
      },
      "source": [
        "<a href=\"https://colab.research.google.com/github/parthpanchal620/data_analysis/blob/main/Working_with_numpy(pandas)_Assement_1_(1).ipynb\" target=\"_parent\"><img src=\"https://colab.research.google.com/assets/colab-badge.svg\" alt=\"Open In Colab\"/></a>"
      ]
    },
    {
      "cell_type": "code",
      "execution_count": null,
      "id": "ae870c95-4590-460b-93b0-b1c1b7e93441",
      "metadata": {
        "id": "ae870c95-4590-460b-93b0-b1c1b7e93441",
        "outputId": "4f1feb8f-a3d9-4dcc-ffba-bb6422805454"
      },
      "outputs": [
        {
          "name": "stdout",
          "output_type": "stream",
          "text": [
            "Requirement already satisfied: pandas in c:\\users\\admin\\appdata\\local\\programs\\python\\python312\\lib\\site-packages (2.2.3)\n",
            "Requirement already satisfied: numpy>=1.26.0 in c:\\users\\admin\\appdata\\local\\programs\\python\\python312\\lib\\site-packages (from pandas) (2.2.1)\n",
            "Requirement already satisfied: python-dateutil>=2.8.2 in c:\\users\\admin\\appdata\\local\\programs\\python\\python312\\lib\\site-packages (from pandas) (2.9.0.post0)\n",
            "Requirement already satisfied: pytz>=2020.1 in c:\\users\\admin\\appdata\\local\\programs\\python\\python312\\lib\\site-packages (from pandas) (2024.2)\n",
            "Requirement already satisfied: tzdata>=2022.7 in c:\\users\\admin\\appdata\\local\\programs\\python\\python312\\lib\\site-packages (from pandas) (2024.2)\n",
            "Requirement already satisfied: six>=1.5 in c:\\users\\admin\\appdata\\local\\programs\\python\\python312\\lib\\site-packages (from python-dateutil>=2.8.2->pandas) (1.17.0)\n"
          ]
        }
      ],
      "source": [
        "!pip install pandas"
      ]
    },
    {
      "cell_type": "code",
      "execution_count": null,
      "id": "5757fd61-6d06-4d03-a9e4-3eeea90f35b3",
      "metadata": {
        "id": "5757fd61-6d06-4d03-a9e4-3eeea90f35b3"
      },
      "outputs": [],
      "source": [
        "import pandas as pd"
      ]
    },
    {
      "cell_type": "code",
      "execution_count": null,
      "id": "0de7bd5e-5d74-4426-9acc-01c482ac1d0e",
      "metadata": {
        "id": "0de7bd5e-5d74-4426-9acc-01c482ac1d0e",
        "outputId": "a5a2d777-7c57-459f-9f97-4bf022d6c207"
      },
      "outputs": [
        {
          "name": "stdout",
          "output_type": "stream",
          "text": [
            "                                           Bank Name                City  ST  \\\n",
            "0                                Fayette County Bank          Saint Elmo  IL   \n",
            "1  Guaranty Bank, (d/b/a BestBank in Georgia & Mi...           Milwaukee  WI   \n",
            "2                                     First NBC Bank         New Orleans  LA   \n",
            "3                                      Proficio Bank  Cottonwood Heights  UT   \n",
            "4                      Seaway Bank and Trust Company             Chicago  IL   \n",
            "\n",
            "    CERT                Acquiring Institution Closing Date Updated Date  \n",
            "0   1802            United Fidelity Bank, fsb    26-May-17    26-Jul-17  \n",
            "1  30003  First-Citizens Bank & Trust Company     5-May-17    26-Jul-17  \n",
            "2  58302                         Whitney Bank    28-Apr-17    26-Jul-17  \n",
            "3  35495                    Cache Valley Bank     3-Mar-17    18-May-17  \n",
            "4  19328                  State Bank of Texas    27-Jan-17    18-May-17  \n"
          ]
        }
      ],
      "source": [
        "\n",
        "# Replace backslashes with forward slashes\n",
        "# 1) Import pandas and read in the banklist.csv file into a dataframe called banks.\n",
        "# 2) Show the head of the dataframe.\n",
        "file_path = 'C:/Users/admin/Downloads/banklist.csv'\n",
        "# Load the CSV file into a DataFrame\n",
        "banks = pd.read_csv(file_path)\n",
        "a = pd.DataFrame(banks)\n",
        "# Display the first few rows\n",
        "print(banks.head())"
      ]
    },
    {
      "cell_type": "code",
      "execution_count": null,
      "id": "6c6d2ac1-434b-4104-a733-d23c4acdc286",
      "metadata": {
        "id": "6c6d2ac1-434b-4104-a733-d23c4acdc286",
        "outputId": "57f5c6c3-7506-451d-cee4-9746eb1bc931"
      },
      "outputs": [
        {
          "name": "stdout",
          "output_type": "stream",
          "text": [
            "                                           Bank Name                City  ST  \\\n",
            "0                                Fayette County Bank          Saint Elmo  IL   \n",
            "1  Guaranty Bank, (d/b/a BestBank in Georgia & Mi...           Milwaukee  WI   \n",
            "2                                     First NBC Bank         New Orleans  LA   \n",
            "3                                      Proficio Bank  Cottonwood Heights  UT   \n",
            "4                      Seaway Bank and Trust Company             Chicago  IL   \n",
            "\n",
            "    CERT                Acquiring Institution Closing Date Updated Date  \n",
            "0   1802            United Fidelity Bank, fsb    26-May-17    26-Jul-17  \n",
            "1  30003  First-Citizens Bank & Trust Company     5-May-17    26-Jul-17  \n",
            "2  58302                         Whitney Bank    28-Apr-17    26-Jul-17  \n",
            "3  35495                    Cache Valley Bank     3-Mar-17    18-May-17  \n",
            "4  19328                  State Bank of Texas    27-Jan-17    18-May-17  \n",
            "<bound method NDFrame.head of                                              Bank Name                City  \\\n",
            "0                                  Fayette County Bank          Saint Elmo   \n",
            "1    Guaranty Bank, (d/b/a BestBank in Georgia & Mi...           Milwaukee   \n",
            "2                                       First NBC Bank         New Orleans   \n",
            "3                                        Proficio Bank  Cottonwood Heights   \n",
            "4                        Seaway Bank and Trust Company             Chicago   \n",
            "..                                                 ...                 ...   \n",
            "548                                 Superior Bank, FSB            Hinsdale   \n",
            "549                                Malta National Bank               Malta   \n",
            "550                    First Alliance Bank & Trust Co.          Manchester   \n",
            "551                  National State Bank of Metropolis          Metropolis   \n",
            "552                                   Bank of Honolulu            Honolulu   \n",
            "\n",
            "     ST   CERT                Acquiring Institution Closing Date Updated Date  \n",
            "0    IL   1802            United Fidelity Bank, fsb    26-May-17    26-Jul-17  \n",
            "1    WI  30003  First-Citizens Bank & Trust Company     5-May-17    26-Jul-17  \n",
            "2    LA  58302                         Whitney Bank    28-Apr-17    26-Jul-17  \n",
            "3    UT  35495                    Cache Valley Bank     3-Mar-17    18-May-17  \n",
            "4    IL  19328                  State Bank of Texas    27-Jan-17    18-May-17  \n",
            "..   ..    ...                                  ...          ...          ...  \n",
            "548  IL  32646                Superior Federal, FSB    27-Jul-01    19-Aug-14  \n",
            "549  OH   6629                    North Valley Bank     3-May-01    18-Nov-02  \n",
            "550  NH  34264  Southern New Hampshire Bank & Trust     2-Feb-01    18-Feb-03  \n",
            "551  IL   3815              Banterra Bank of Marion    14-Dec-00    17-Mar-05  \n",
            "552  HI  21029                   Bank of the Orient    13-Oct-00    17-Mar-05  \n",
            "\n",
            "[553 rows x 7 columns]>\n"
          ]
        }
      ],
      "source": [
        "# Creating a DataFrame (correct syntax)\n",
        "a = pd.DataFrame(banks)\n",
        "# Display the first few rows\n",
        "print(banks.head())"
      ]
    },
    {
      "cell_type": "code",
      "execution_count": null,
      "id": "87850d3f-9ed9-4de4-9116-68c1df686961",
      "metadata": {
        "id": "87850d3f-9ed9-4de4-9116-68c1df686961",
        "outputId": "23b0a4b1-41e2-4d98-c00d-e2d55cb43c8b"
      },
      "outputs": [
        {
          "data": {
            "text/plain": [
              "['Bank Name',\n",
              " 'City',\n",
              " 'ST',\n",
              " 'CERT',\n",
              " 'Acquiring Institution',\n",
              " 'Closing Date',\n",
              " 'Updated Date']"
            ]
          },
          "execution_count": 4,
          "metadata": {},
          "output_type": "execute_result"
        }
      ],
      "source": [
        "# 3) What are the column names?\n",
        "# Re-import pandas and reload the file since the environment was reset\n",
        "import pandas as pd\n",
        "\n",
        "# File path for the re-uploaded banklist.csv file\n",
        "file_path = 'C:/Users/admin/Downloads/banklist.csv'\n",
        "banks = pd.read_csv(file_path)\n",
        "\n",
        "# Display the column names of the DataFrame\n",
        "banks.columns.tolist()\n"
      ]
    },
    {
      "cell_type": "code",
      "execution_count": null,
      "id": "3b28a71a-a9a3-4efd-8045-f570ab503410",
      "metadata": {
        "id": "3b28a71a-a9a3-4efd-8045-f570ab503410",
        "outputId": "57ffadf6-ef6e-405a-ca67-aa3f66bcc158"
      },
      "outputs": [
        {
          "name": "stdout",
          "output_type": "stream",
          "text": [
            "There are 44 unique states represented in this dataset.\n",
            "There are ['IL' 'WI' 'LA' 'UT' 'NJ' 'AR' 'GA' 'PA' 'TN' 'WA' 'CO' 'PR' 'FL' 'MN'\n",
            " 'CA' 'MD' 'OK' 'OH' 'SC' 'VA' 'ID' 'TX' 'CT' 'AZ' 'NV' 'NC' 'KY' 'MO'\n",
            " 'KS' 'AL' 'MI' 'IN' 'IA' 'NE' 'MS' 'NM' 'OR' 'NY' 'MA' 'SD' 'WY' 'WV'\n",
            " 'NH' 'HI'] unique states represented in this dataset.\n"
          ]
        }
      ],
      "source": [
        "# 4) How many States (ST) are represented in this data set?\n",
        "import pandas as pd\n",
        "\n",
        "# Specify the file path to your CSV file\n",
        "file_path = r'C:\\Users\\admin\\Downloads\\banklist.csv'\n",
        "\n",
        "# Load the CSV file into a DataFrame\n",
        "banks = pd.read_csv(file_path)\n",
        "\n",
        "# Count the number of unique states in the 'ST' column\n",
        "\n",
        "unique_states_count = banks['ST'].nunique()\n",
        "print(f\"There are {unique_states_count} unique states represented in this dataset.\")\n",
        "unique_states_count = banks['ST'].unique()\n",
        "print(f\"There are {unique_states_count} unique states represented in this dataset.\")"
      ]
    },
    {
      "cell_type": "code",
      "execution_count": null,
      "id": "360cca41-4607-4607-917c-e9a066f0726b",
      "metadata": {
        "id": "360cca41-4607-4607-917c-e9a066f0726b",
        "outputId": "02598fac-8b20-4e0d-baab-5c66e857fe01"
      },
      "outputs": [
        {
          "name": "stdout",
          "output_type": "stream",
          "text": [
            "List of unique states: ['IL' 'WI' 'LA' 'UT' 'NJ' 'AR' 'GA' 'PA' 'TN' 'WA' 'CO' 'PR' 'FL' 'MN'\n",
            " 'CA' 'MD' 'OK' 'OH' 'SC' 'VA' 'ID' 'TX' 'CT' 'AZ' 'NV' 'NC' 'KY' 'MO'\n",
            " 'KS' 'AL' 'MI' 'IN' 'IA' 'NE' 'MS' 'NM' 'OR' 'NY' 'MA' 'SD' 'WY' 'WV'\n",
            " 'NH' 'HI']\n"
          ]
        }
      ],
      "source": [
        "# 5) Get a list or array of all the states in the data set.\n",
        "import pandas as pd\n",
        "\n",
        "# Specify the file path to your CSV file\n",
        "file_path = r'C:\\Users\\admin\\Downloads\\banklist.csv'\n",
        "\n",
        "# Load the CSV file into a DataFrame\n",
        "banks = pd.read_csv(file_path)\n",
        "\n",
        "# Get a list of all unique states\n",
        "unique_states = banks['ST'].unique()\n",
        "\n",
        "print(\"List of unique states:\", unique_states)\n"
      ]
    },
    {
      "cell_type": "code",
      "execution_count": null,
      "id": "5a2db148-15e6-44fe-80a4-cdda5bea7599",
      "metadata": {
        "id": "5a2db148-15e6-44fe-80a4-cdda5bea7599",
        "outputId": "ee5fb2c1-c24a-4e13-bf54-caf3c33cd129"
      },
      "outputs": [
        {
          "name": "stdout",
          "output_type": "stream",
          "text": [
            "There are ['Fayette County Bank'\n",
            " 'Guaranty Bank, (d/b/a BestBank in Georgia & Michigan) ' 'First NBC Bank'\n",
            " 'Proficio Bank' 'Seaway Bank and Trust Company' 'Harvest Community Bank'\n",
            " 'Allied Bank' 'The Woodbury Banking Company' 'First CornerStone Bank'\n",
            " 'Trust Company Bank' 'North Milwaukee State Bank'\n",
            " 'Hometown National Bank' 'The Bank of Georgia' 'Premier Bank'\n",
            " 'Edgebrook Bank' 'Doral Bank' 'Capitol City Bank & Trust Company'\n",
            " 'Highland Community Bank' 'First National Bank of Crestview '\n",
            " 'Northern Star Bank' 'Frontier Bank, FSB D/B/A El Paseo Bank'\n",
            " 'The National Republic Bank of Chicago' 'NBRS Financial'\n",
            " 'GreenChoice Bank, fsb' 'Eastside Commercial Bank'\n",
            " 'The Freedom State Bank ' 'Valley Bank' 'Slavie Federal Savings Bank'\n",
            " 'Columbia Savings Bank' 'AztecAmerica Bank ' 'Allendale County Bank'\n",
            " 'Vantage Point Bank' 'Millennium Bank, National Association '\n",
            " 'Syringa Bank' 'The Bank of Union' 'DuPage National Bank'\n",
            " 'Texas Community Bank, National Association' 'Bank of Jackson County'\n",
            " 'First National Bank also operating as The National Bank of El Paso'\n",
            " \"The Community's Bank\" 'Sunrise Bank of Arizona' 'Community South Bank'\n",
            " 'Bank of Wausau'\n",
            " 'First Community Bank of Southwest Florida (also operating as Community Bank of Cape Coral)'\n",
            " 'Mountain National Bank' '1st Commerce Bank'\n",
            " 'Banks of Wisconsin d/b/a Bank of Kenosha' 'Central Arizona Bank'\n",
            " 'Sunrise Bank' 'Pisgah Community Bank' 'Douglas County Bank'\n",
            " 'Parkway Bank' 'Chipola Community Bank' 'Heritage Bank of North Florida'\n",
            " 'First Federal Bank' 'Gold Canyon Bank' 'Frontier Bank' 'Covenant Bank'\n",
            " '1st Regents Bank' 'Westside Community Bank'\n",
            " 'Community Bank of the Ozarks' 'Hometown Community Bank'\n",
            " 'Citizens First National Bank' 'Heritage Bank of Florida' 'NOVA Bank'\n",
            " 'Excel Bank' 'First East Side Savings Bank' 'GulfSouth Private Bank'\n",
            " 'First United Bank' 'Truman Bank' 'First Commercial Bank'\n",
            " 'Waukegan Savings Bank' 'Jasper Banking Company'\n",
            " 'Second Federal Savings and Loan Association of Chicago' 'Heartland Bank'\n",
            " 'First Cherokee State Bank' 'Georgia Trust Bank'\n",
            " 'The Royal Palm Bank of Florida' 'Glasgow Savings Bank'\n",
            " 'Montgomery Bank & Trust' 'The Farmers Bank of Lynchburg'\n",
            " 'Security Exchange Bank' 'Putnam State Bank' 'Waccamaw Bank'\n",
            " \"Farmers' and Traders' State Bank\" 'Carolina Federal Savings Bank'\n",
            " 'First Capital Bank' 'Alabama Trust Bank, National Association'\n",
            " 'Security Bank, National Association' 'Palm Desert National Bank'\n",
            " 'Plantation Federal Bank' 'Inter Savings Bank, fsb D/B/A InterBank, fsb'\n",
            " 'HarVest Bank of Maryland' 'Bank of the Eastern Shore'\n",
            " 'Fort Lee Federal Savings Bank, FSB' 'Fidelity Bank'\n",
            " 'Covenant Bank & Trust' 'New City Bank' 'Global Commerce Bank'\n",
            " 'Home Savings of America' 'Central Bank of Georgia' 'SCB Bank'\n",
            " 'Charter National Bank and Trust' 'BankEast' 'Patriot Bank Minnesota'\n",
            " 'Tennessee Commerce Bank'\n",
            " 'First Guaranty Bank and Trust Company of Jacksonville'\n",
            " 'American Eagle Savings Bank' 'The First State Bank'\n",
            " 'Central Florida State Bank' 'Western National Bank'\n",
            " 'Premier Community Bank of the Emerald Coast' 'Central Progressive Bank'\n",
            " 'Polk County Bank' 'Community Bank of Rockmart' 'SunFirst Bank'\n",
            " 'Mid City Bank, Inc.' 'All American Bank' 'Community Banks of Colorado'\n",
            " 'Community Capital Bank' 'Decatur First Bank' 'Old Harbor Bank'\n",
            " 'Country Bank' 'First State Bank' 'Blue Ridge Savings Bank, Inc.'\n",
            " 'Piedmont Community Bank' 'Sun Security Bank' 'The RiverBank'\n",
            " 'First International Bank' 'Citizens Bank of Northern California'\n",
            " 'Bank of the Commonwealth' 'The First National Bank of Florida'\n",
            " 'CreekSide Bank' 'Patriot Bank of Georgia' 'First Choice Bank'\n",
            " 'First Southern National Bank' 'Lydian Private Bank'\n",
            " 'Public Savings Bank' 'The First National Bank of Olathe'\n",
            " 'Bank of Whitman' 'Bank of Shorewood' 'Integra Bank National Association'\n",
            " 'BankMeridian, N.A.' 'Virginia Business Bank' 'Bank of Choice'\n",
            " 'LandMark Bank of Florida' 'Southshore Community Bank' 'Summit Bank'\n",
            " 'First Peoples Bank' 'High Trust Bank' 'One Georgia Bank'\n",
            " 'Signature Bank' 'Colorado Capital Bank' 'First Chicago Bank & Trust'\n",
            " 'Mountain Heritage Bank' 'First Commercial Bank of Tampa Bay'\n",
            " 'McIntosh State Bank' 'Atlantic Bank and Trust' 'First Heritage Bank'\n",
            " 'First Georgia Banking Company' 'Atlantic Southern Bank' 'Coastal Bank'\n",
            " 'Community Central Bank' 'The Park Avenue Bank'\n",
            " 'First Choice Community Bank' 'Cortez Community Bank'\n",
            " 'First National Bank of Central Florida' 'Heritage Banking Group'\n",
            " 'Rosemount National Bank' 'Superior Bank' 'Nexity Bank'\n",
            " 'New Horizons Bank' 'Bartow County Bank' 'Nevada Commerce Bank'\n",
            " 'Western Springs National Bank and Trust' 'The Bank of Commerce'\n",
            " 'Legacy Bank' 'First National Bank of Davis' 'Valley Community Bank'\n",
            " 'San Luis Trust Bank, FSB' 'Charter Oak Bank'\n",
            " 'Citizens Bank of Effingham' 'Habersham Bank' 'Canyon National Bank'\n",
            " 'Badger State Bank' 'Peoples State Bank' 'Sunshine State Community Bank'\n",
            " 'Community First Bank Chicago' 'North Georgia Bank' 'American Trust Bank'\n",
            " 'First Community Bank' 'FirsTier Bank' 'Evergreen State Bank'\n",
            " 'United Western Bank' 'The Bank of Asheville'\n",
            " 'CommunitySouth Bank & Trust' 'Enterprise Banking Company'\n",
            " 'Oglethorpe Bank' 'First Commercial Bank of Florida'\n",
            " 'Community National Bank' 'First Southern Bank'\n",
            " 'United Americas Bank, N.A.' 'Appalachian Community Bank, FSB'\n",
            " 'Chestatee State Bank' 'The Bank of Miami,N.A.' 'Earthstar Bank'\n",
            " 'Paramount Bank' 'First Banking Center'\n",
            " 'Allegiance Bank of North America' 'Gulf State Community Bank'\n",
            " 'Copper Star Bank' 'Darby Bank & Trust Co.' 'Tifton Banking Company'\n",
            " 'First Vietnamese American Bank' 'Pierce Commercial Bank'\n",
            " 'Western Commercial Bank' 'K Bank' 'First Arizona Savings, A FSB'\n",
            " 'Hillcrest Bank' 'First Suburban National Bank'\n",
            " 'The First National Bank of Barnesville' 'The Gordon Bank'\n",
            " 'Progress Bank of Florida' 'First Bank of Jacksonville'\n",
            " 'WestBridge Bank and Trust Company' 'Security Savings Bank, F.S.B.'\n",
            " 'Shoreline Bank' 'Wakulla Bank' 'North County Bank'\n",
            " 'Haven Trust Bank Florida' 'Maritime Savings Bank' 'Bramble Savings Bank'\n",
            " 'The Peoples Bank' 'First Commerce Community Bank' 'Bank of Ellijay'\n",
            " 'ISN Bank' 'Horizon Bank' 'Sonoma Valley Bank' 'Los Padres Bank'\n",
            " 'Butte Community Bank' 'Pacific State Bank' 'ShoreBank'\n",
            " 'Imperial Savings and Loan Association' 'Independent National Bank'\n",
            " 'Community National Bank at Bartow' 'Palos Bank and Trust Company'\n",
            " 'Ravenswood Bank' 'LibertyBank' 'The Cowlitz Bank'\n",
            " 'Coastal Community Bank' 'Bayside Savings Bank' 'Northwest Bank & Trust'\n",
            " 'Home Valley Bank' 'SouthwestUSA Bank' 'Community Security Bank'\n",
            " 'Thunder Bank' 'Williamsburg First National Bank'\n",
            " 'Crescent Bank and Trust Company' 'Sterling Bank'\n",
            " 'Mainstreet Savings Bank, FSB' 'Olde Cypress Community Bank'\n",
            " 'Turnberry Bank' 'Metro Bank of Dade County'\n",
            " 'First National Bank of the South' 'Woodlands Bank' 'Home National Bank'\n",
            " 'USA Bank' 'Ideal Federal Savings Bank' 'Bay National Bank'\n",
            " 'High Desert State Bank' 'First National Bank' 'Peninsula Bank'\n",
            " 'Nevada Security Bank' 'Washington First International Bank'\n",
            " 'TierOne Bank' 'Arcola Homestead Savings Bank' 'Sun West Bank'\n",
            " 'Granite Community Bank, NA' 'Bank of Florida - Tampa'\n",
            " 'Bank of Florida - Southwest' 'Bank of Florida - Southeast'\n",
            " 'Pinehurst Bank' 'Midwest Bank and Trust Company'\n",
            " 'Southwest Community Bank' 'New Liberty Bank' 'Satilla Community Bank'\n",
            " '1st Pacific Bank of California' 'Towne Bank of Arizona' 'Access Bank'\n",
            " 'The Bank of Bonifay' 'BC National Banks' 'Champion Bank' 'CF Bancorp'\n",
            " 'Westernbank Puerto Rico' 'R-G Premier Bank of Puerto Rico' 'Eurobank'\n",
            " 'Wheatland Bank' 'Peotone Bank and Trust Company'\n",
            " 'Lincoln Park Savings Bank' 'New Century Bank'\n",
            " 'Citizens Bank and Trust Company of Chicago' 'Broadway Bank'\n",
            " 'Amcore Bank, National Association' 'City Bank' 'Tamalpais Bank'\n",
            " 'Innovative Bank' 'Butler Bank' 'Riverside National Bank of Florida'\n",
            " 'AmericanFirst Bank' 'First Federal Bank of North Florida'\n",
            " 'Lakeside Community Bank' 'Beach First National Bank' 'Desert Hills Bank'\n",
            " 'Unity National Bank' 'Key West Bank' 'McIntosh Commercial Bank'\n",
            " 'State Bank of Aurora' 'First Lowndes Bank' 'Bank of Hiawassee'\n",
            " 'Appalachian Community Bank' 'Advanta Bank Corp.' 'Century Security Bank'\n",
            " 'American National Bank' 'Statewide Bank' 'Old Southern Bank'\n",
            " 'LibertyPointe Bank' 'Centennial Bank' 'Waterfield Bank'\n",
            " 'Bank of Illinois' 'Sun American Bank' 'Rainier Pacific Bank'\n",
            " 'Carson River Community Bank' 'La Jolla Bank, FSB'\n",
            " 'George Washington Savings Bank' 'The La Coste National Bank'\n",
            " 'Marco Community Bank' '1st American State Bank of Minnesota'\n",
            " 'American Marine Bank' 'First Regional Bank' 'Community Bank and Trust'\n",
            " 'Marshall Bank, N.A.' 'Florida Community Bank'\n",
            " 'First National Bank of Georgia' 'Columbia River Bank' 'Evergreen Bank'\n",
            " 'Charter Bank' 'Bank of Leeton' 'Premier American Bank'\n",
            " 'Barnes Banking Company' 'St. Stephen State Bank'\n",
            " 'Town Community Bank & Trust' 'First Federal Bank of California, F.S.B.'\n",
            " 'Imperial Capital Bank' \"Independent Bankers' Bank\"\n",
            " 'New South Federal Savings Bank' 'Citizens State Bank'\n",
            " 'Peoples First Community Bank' 'RockBridge Commercial Bank'\n",
            " 'SolutionsBank' 'Valley Capital Bank, N.A.' 'Republic Federal Bank, N.A.'\n",
            " 'Greater Atlantic Bank' 'Benchmark Bank' 'AmTrust Bank'\n",
            " 'The Tattnall Bank' 'First Security National Bank'\n",
            " 'The Buckhead Community Bank' 'Commerce Bank of Southwest Florida'\n",
            " 'Pacific Coast National Bank' 'Orion Bank' 'Century Bank, F.S.B.'\n",
            " 'United Commercial Bank' 'Gateway Bank of St. Louis' 'Prosperan Bank'\n",
            " 'Home Federal Savings Bank' 'United Security Bank' 'North Houston Bank'\n",
            " 'Madisonville State Bank' 'Citizens National Bank' 'Park National Bank'\n",
            " 'Pacific National Bank' 'California National Bank'\n",
            " 'San Diego National Bank' 'Community Bank of Lemont' 'Bank USA, N.A.'\n",
            " 'First DuPage Bank' 'Riverview Community Bank' 'Bank of Elmwood'\n",
            " 'Flagship National Bank' 'Hillcrest Bank Florida' 'American United Bank'\n",
            " 'Partners Bank' 'San Joaquin Bank' 'Southern Colorado National Bank'\n",
            " 'Jennings State Bank' 'Warren Bank' 'Georgian Bank'\n",
            " 'Irwin Union Bank, F.S.B.' 'Irwin Union Bank and Trust Company'\n",
            " 'Venture Bank' 'Brickwell Community Bank' 'Corus Bank, N.A.'\n",
            " 'Platinum Community Bank' 'Vantus Bank' 'InBank'\n",
            " 'First Bank of Kansas City' 'Affinity Bank' 'Mainstreet Bank'\n",
            " 'Bradford Bank' 'Guaranty Bank' 'CapitalSouth Bank' 'First Coweta Bank'\n",
            " 'ebank' 'Community Bank of Nevada' 'Community Bank of Arizona'\n",
            " 'Union Bank, National Association' 'Colonial Bank'\n",
            " 'Dwelling House Savings and Loan Association' 'Community First Bank'\n",
            " 'Community National Bank of Sarasota County' 'Mutual Bank'\n",
            " 'First BankAmericano' 'Peoples Community Bank' 'Integrity Bank'\n",
            " 'First State Bank of Altus' 'Security Bank of Jones County'\n",
            " 'Security Bank of Houston County' 'Security Bank of Bibb County'\n",
            " 'Security Bank of North Metro' 'Security Bank of North Fulton'\n",
            " 'Security Bank of Gwinnett County' 'Waterford Village Bank'\n",
            " 'Temecula Valley Bank' 'Vineyard Bank' 'BankFirst' 'First Piedmont Bank'\n",
            " 'Bank of Wyoming' 'Founders Bank' 'Millennium State Bank of Texas'\n",
            " 'First National Bank of Danville' 'Elizabeth State Bank'\n",
            " 'Rock River Bank' 'First State Bank of Winchester' 'John Warner Bank'\n",
            " 'Mirae Bank' 'MetroPacific Bank' 'Neighborhood Community Bank'\n",
            " 'Community Bank of West Georgia' 'First National Bank of Anthony'\n",
            " 'Cooperative Bank' 'Southern Community Bank' 'Bank of Lincolnwood'\n",
            " 'Strategic Capital Bank' 'BankUnited, FSB' 'Westsound Bank'\n",
            " 'America West Bank' 'Citizens Community Bank' 'Silverton Bank, NA'\n",
            " 'First Bank of Idaho' 'First Bank of Beverly Hills'\n",
            " 'Michigan Heritage Bank' 'American Southern Bank'\n",
            " 'Great Basin Bank of Nevada' 'American Sterling Bank' 'New Frontier Bank'\n",
            " 'Cape Fear Bank' 'Omni National Bank' 'TeamBank, NA'\n",
            " 'Colorado National Bank' 'FirstCity Bank' 'Freedom Bank of Georgia'\n",
            " 'Security Savings Bank' 'Heritage Community Bank' 'Silver Falls Bank'\n",
            " 'Pinnacle Bank of Oregon' 'Corn Belt Bank & Trust Co.'\n",
            " 'Riverside Bank of the Gulf Coast' 'Sherman County Bank' 'County Bank'\n",
            " 'Alliance Bank' 'FirstBank Financial Services' 'Ocala National Bank'\n",
            " 'Suburban FSB' 'MagnetBank' '1st Centennial Bank' 'Bank of Clark County'\n",
            " 'National Bank of Commerce' 'Sanderson State Bank' 'Haven Trust Bank'\n",
            " 'First Georgia Community Bank' 'PFF Bank & Trust' 'Downey Savings & Loan'\n",
            " 'Community Bank' 'Security Pacific Bank' 'Franklin Bank, SSB'\n",
            " 'Freedom Bank' 'Alpha Bank & Trust' 'Meridian Bank' 'Main Street Bank'\n",
            " 'Washington Mutual Bank (Including its subsidiary Washington Mutual Bank FSB)'\n",
            " 'Ameribank' 'Silver State Bank' 'Columbian Bank & Trust'\n",
            " 'First Priority Bank' 'First Heritage Bank, NA'\n",
            " 'First National Bank of Nevada' 'IndyMac Bank' 'First Integrity Bank, NA'\n",
            " 'ANB Financial, NA' 'Hume Bank' 'Douglass National Bank'\n",
            " 'Miami Valley Bank' 'NetBank' 'Metropolitan Savings Bank'\n",
            " 'Bank of Ephraim' 'Reliance Bank' 'Guaranty National Bank of Tallahassee'\n",
            " 'Dollar Savings Bank' 'Pulaski Savings Bank'\n",
            " 'First National Bank of Blanchardville' 'Southern Pacific Bank'\n",
            " 'Farmers Bank of Cheneyville' 'Bank of Alamo'\n",
            " 'AmTrade International Bank' 'Universal Federal Savings Bank'\n",
            " 'Connecticut Bank of Commerce' 'Net 1st National Bank' 'NextBank, NA'\n",
            " 'Oakwood Deposit Bank Co.' 'Bank of Sierra Blanca' 'Hamilton Bank, NA'\n",
            " 'Sinclair National Bank' 'Superior Bank, FSB' 'Malta National Bank'\n",
            " 'First Alliance Bank & Trust Co.' 'National State Bank of Metropolis'\n",
            " 'Bank of Honolulu'] unique states represented in this dataset.\n",
            "There are 537 unique states represented in this dataset.\n"
          ]
        }
      ],
      "source": [
        "unique_states_count = banks['Bank Name'].unique()\n",
        "print(f\"There are {unique_states_count} unique states represented in this dataset.\")\n",
        "unique_states_count = banks['Bank Name'].nunique()\n",
        "print(f\"There are {unique_states_count} unique states represented in this dataset.\")"
      ]
    },
    {
      "cell_type": "code",
      "execution_count": null,
      "id": "bb9ff8f6-19c1-46ba-b7db-e77ca184d76f",
      "metadata": {
        "id": "bb9ff8f6-19c1-46ba-b7db-e77ca184d76f",
        "outputId": "13e5ff00-c2df-4d19-ab0e-e16a49cb0f6a"
      },
      "outputs": [
        {
          "name": "stdout",
          "output_type": "stream",
          "text": [
            "There are 537 unique states represented in this dataset.\n"
          ]
        }
      ],
      "source": [
        "unique_states_count = banks['Bank Name'].nunique()\n",
        "print(f\"There are {unique_states_count} unique states represented in this dataset.\")"
      ]
    },
    {
      "cell_type": "code",
      "execution_count": null,
      "id": "29bba934-e334-4561-afd5-560a030f3187",
      "metadata": {
        "id": "29bba934-e334-4561-afd5-560a030f3187",
        "outputId": "55829e6c-049f-4563-de3d-15245ec7095e"
      },
      "outputs": [
        {
          "data": {
            "text/plain": [
              "ST\n",
              "GA    93\n",
              "FL    75\n",
              "IL    68\n",
              "CA    41\n",
              "MN    23\n",
              "Name: count, dtype: int64"
            ]
          },
          "execution_count": 52,
          "metadata": {},
          "output_type": "execute_result"
        }
      ],
      "source": [
        "# (6) What are the top 5 states with the most failed banks?\n",
        "# Count the number of failed banks by state (column \"ST\") and sort in descending order\n",
        "failed_banks_by_state = banks['ST'].value_counts()\n",
        "\n",
        "# Extract the top 5 states with the most failed banks\n",
        "top_5_states = failed_banks_by_state.head(5)\n",
        "top_5_states"
      ]
    },
    {
      "cell_type": "code",
      "execution_count": null,
      "id": "1cafb31a-bc3a-492a-b041-bd8556e8ddb7",
      "metadata": {
        "id": "1cafb31a-bc3a-492a-b041-bd8556e8ddb7"
      },
      "outputs": [],
      "source": [
        "# The top 5 states with the most failed banks, based on the provided data, are:\n",
        "\n",
        "# Georgia (GA): 93 failed banks\n",
        "# Florida (FL): 75 failed banks\n",
        "# Illinois (IL): 68 failed banks\n",
        "# California (CA): 41 failed banks\n",
        "# Minnesota (MN): 23 failed banks"
      ]
    },
    {
      "cell_type": "code",
      "execution_count": null,
      "id": "a9b392f4-7e5a-4757-8eda-607c72470d26",
      "metadata": {
        "id": "a9b392f4-7e5a-4757-8eda-607c72470d26",
        "outputId": "7d0bf6ca-cef4-45b3-fadb-a63968c380e8"
      },
      "outputs": [
        {
          "data": {
            "text/plain": [
              "Acquiring Institution\n",
              "No Acquirer                            31\n",
              "State Bank and Trust Company           12\n",
              "First-Citizens Bank & Trust Company    11\n",
              "Ameris Bank                            10\n",
              "U.S. Bank N.A.                          9\n",
              "Name: count, dtype: int64"
            ]
          },
          "execution_count": 53,
          "metadata": {},
          "output_type": "execute_result"
        }
      ],
      "source": [
        " # (7) What are the top 5 acquiring institutions?\n",
        "Acquiring_Institutions_by_Banks = banks['Acquiring Institution'].value_counts()\n",
        "\n",
        "# Extract the top 5 states with the most failed banks\n",
        "top_5_Acquiring_Institution= Acquiring_Institutions_by_Banks.head(5)\n",
        "top_5_Acquiring_Institution"
      ]
    },
    {
      "cell_type": "code",
      "execution_count": null,
      "id": "4d91757e-3774-4f3d-a5b3-fe4d7e6f1e28",
      "metadata": {
        "id": "4d91757e-3774-4f3d-a5b3-fe4d7e6f1e28",
        "outputId": "8fb963fc-baca-410c-a815-d0ba932c4f88"
      },
      "outputs": [
        {
          "data": {
            "text/html": [
              "<div>\n",
              "<style scoped>\n",
              "    .dataframe tbody tr th:only-of-type {\n",
              "        vertical-align: middle;\n",
              "    }\n",
              "\n",
              "    .dataframe tbody tr th {\n",
              "        vertical-align: top;\n",
              "    }\n",
              "\n",
              "    .dataframe thead th {\n",
              "        text-align: right;\n",
              "    }\n",
              "</style>\n",
              "<table border=\"1\" class=\"dataframe\">\n",
              "  <thead>\n",
              "    <tr style=\"text-align: right;\">\n",
              "      <th></th>\n",
              "      <th>Bank Name</th>\n",
              "      <th>City</th>\n",
              "      <th>ST</th>\n",
              "      <th>CERT</th>\n",
              "      <th>Acquiring Institution</th>\n",
              "      <th>Closing Date</th>\n",
              "      <th>Updated Date</th>\n",
              "    </tr>\n",
              "  </thead>\n",
              "  <tbody>\n",
              "    <tr>\n",
              "      <th>4</th>\n",
              "      <td>Seaway Bank and Trust Company</td>\n",
              "      <td>Chicago</td>\n",
              "      <td>IL</td>\n",
              "      <td>19328</td>\n",
              "      <td>State Bank of Texas</td>\n",
              "      <td>27-Jan-17</td>\n",
              "      <td>18-May-17</td>\n",
              "    </tr>\n",
              "    <tr>\n",
              "      <th>21</th>\n",
              "      <td>The National Republic Bank of Chicago</td>\n",
              "      <td>Chicago</td>\n",
              "      <td>IL</td>\n",
              "      <td>916</td>\n",
              "      <td>State Bank of Texas</td>\n",
              "      <td>24-Oct-14</td>\n",
              "      <td>6-Jan-16</td>\n",
              "    </tr>\n",
              "    <tr>\n",
              "      <th>450</th>\n",
              "      <td>Millennium State Bank of Texas</td>\n",
              "      <td>Dallas</td>\n",
              "      <td>TX</td>\n",
              "      <td>57667</td>\n",
              "      <td>State Bank of Texas</td>\n",
              "      <td>2-Jul-09</td>\n",
              "      <td>26-Oct-12</td>\n",
              "    </tr>\n",
              "  </tbody>\n",
              "</table>\n",
              "</div>"
            ],
            "text/plain": [
              "                                 Bank Name     City  ST   CERT  \\\n",
              "4            Seaway Bank and Trust Company  Chicago  IL  19328   \n",
              "21   The National Republic Bank of Chicago  Chicago  IL    916   \n",
              "450         Millennium State Bank of Texas   Dallas  TX  57667   \n",
              "\n",
              "    Acquiring Institution Closing Date Updated Date  \n",
              "4     State Bank of Texas    27-Jan-17    18-May-17  \n",
              "21    State Bank of Texas    24-Oct-14     6-Jan-16  \n",
              "450   State Bank of Texas     2-Jul-09    26-Oct-12  "
            ]
          },
          "execution_count": 54,
          "metadata": {},
          "output_type": "execute_result"
        }
      ],
      "source": [
        "# 8) How many banks has the State Bank of Texas acquired? How many of them were actually in Texas?\n",
        "State_bank_of_texas_acquired = banks[banks['Acquiring Institution'] == 'State Bank of Texas']\n",
        "State_bank_of_texas= State_bank_of_texas_acquired.head()\n",
        "State_bank_of_texas"
      ]
    },
    {
      "cell_type": "code",
      "execution_count": null,
      "id": "2cebe5ae-3668-4d01-b42a-151e5d623c78",
      "metadata": {
        "id": "2cebe5ae-3668-4d01-b42a-151e5d623c78",
        "outputId": "de8b1242-a895-4edf-d3d0-f5fe9a6f6058"
      },
      "outputs": [
        {
          "data": {
            "text/plain": [
              "('Los Angeles', np.int64(4))"
            ]
          },
          "execution_count": 58,
          "metadata": {},
          "output_type": "execute_result"
        }
      ],
      "source": [
        "# 9) What is the most common city in California for a bank to fail in?\n",
        "# Filter the data for banks in California (CA)\n",
        "Failed_california_banks = banks[banks['ST'] == 'CA']\n",
        "# Count the number of failed banks per city\n",
        "city_counts = Failed_california_banks['City'].value_counts()\n",
        "# Find the most common city\n",
        "most_common_city = city_counts.idxmax()\n",
        "most_common_city_count = city_counts.max()\n",
        "most_common_city, most_common_city_count"
      ]
    }
  ],
  "metadata": {
    "kernelspec": {
      "display_name": "Python 3 (ipykernel)",
      "language": "python",
      "name": "python3"
    },
    "language_info": {
      "codemirror_mode": {
        "name": "ipython",
        "version": 3
      },
      "file_extension": ".py",
      "mimetype": "text/x-python",
      "name": "python",
      "nbconvert_exporter": "python",
      "pygments_lexer": "ipython3",
      "version": "3.12.8"
    },
    "colab": {
      "provenance": [],
      "include_colab_link": true
    }
  },
  "nbformat": 4,
  "nbformat_minor": 5
}